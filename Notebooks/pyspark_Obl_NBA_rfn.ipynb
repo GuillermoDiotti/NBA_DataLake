{
 "cells": [
  {
   "cell_type": "code",
   "execution_count": 1,
   "metadata": {},
   "outputs": [
    {
     "name": "stderr",
     "output_type": "stream",
     "text": [
      "Setting default log level to \"WARN\".\n",
      "To adjust logging level use sc.setLogLevel(newLevel). For SparkR, use setLogLevel(newLevel).\n"
     ]
    },
    {
     "name": "stdout",
     "output_type": "stream",
     "text": [
      "2025-07-08T13:29:32,564 WARN [Thread-4] org.apache.hadoop.util.NativeCodeLoader - Unable to load native-hadoop library for your platform... using builtin-java classes where applicable\n"
     ]
    }
   ],
   "source": [
    "from pyspark.sql import SparkSession\n",
    "\n",
    "from pyspark.sql.functions import *\n",
    "from pyspark.sql.types import *\n",
    "\n",
    "spark = SparkSession \\\n",
    "    .builder \\\n",
    "    .appName(\"pyspark_Obl_NBA_rfn\") \\\n",
    "    .getOrCreate()"
   ]
  },
  {
   "cell_type": "markdown",
   "metadata": {},
   "source": [
    "## CARGA DE LOS CSV"
   ]
  },
  {
   "cell_type": "code",
   "execution_count": 2,
   "metadata": {},
   "outputs": [
    {
     "name": "stderr",
     "output_type": "stream",
     "text": [
      "                                                                                "
     ]
    }
   ],
   "source": [
    "df_game = spark.read.csv('/data_obligatorio_NBA/lnd/game.csv', header=True, sep=',')\n",
    "df_game_summary = spark.read.csv('/data_obligatorio_NBA/lnd/game_summary.csv', header=True, sep=',')\n",
    "df_common_player_info = spark.read.csv('/data_obligatorio_NBA/lnd/common_player_info.csv', header=True, sep=',')\n",
    "df_play_by_play_pts = spark.read.csv('/data_obligatorio_NBA/lnd/play_by_play_pts.csv', header=True, sep=',')\n",
    "df_player = spark.read.csv('/data_obligatorio_NBA/lnd/player.csv', header=True, sep=',')\n",
    "df_team = spark.read.csv('/data_obligatorio_NBA/lnd/team.csv', header=True, sep=',')"
   ]
  },
  {
   "cell_type": "markdown",
   "metadata": {},
   "source": [
    "## IMPRESION DE LOS ATRIBUTOS"
   ]
  },
  {
   "cell_type": "code",
   "execution_count": 3,
   "metadata": {},
   "outputs": [
    {
     "name": "stdout",
     "output_type": "stream",
     "text": [
      "root\n",
      " |-- team_id_home: string (nullable = true)\n",
      " |-- game_id: string (nullable = true)\n",
      " |-- wl_home: string (nullable = true)\n",
      " |-- pts_home: string (nullable = true)\n",
      " |-- team_id_away: string (nullable = true)\n",
      " |-- wl_away: string (nullable = true)\n",
      " |-- pts_away: string (nullable = true)\n",
      "\n"
     ]
    }
   ],
   "source": [
    "df_game.printSchema()"
   ]
  },
  {
   "cell_type": "code",
   "execution_count": 4,
   "metadata": {},
   "outputs": [
    {
     "name": "stdout",
     "output_type": "stream",
     "text": [
      "root\n",
      " |-- game_id: string (nullable = true)\n",
      " |-- home_team_id: string (nullable = true)\n",
      " |-- visitor_team_id: string (nullable = true)\n",
      " |-- season: string (nullable = true)\n",
      "\n"
     ]
    }
   ],
   "source": [
    "df_game_summary.printSchema()"
   ]
  },
  {
   "cell_type": "code",
   "execution_count": 5,
   "metadata": {},
   "outputs": [
    {
     "name": "stdout",
     "output_type": "stream",
     "text": [
      "root\n",
      " |-- person_id: string (nullable = true)\n",
      " |-- first_name: string (nullable = true)\n",
      " |-- last_name: string (nullable = true)\n",
      " |-- birthdate: string (nullable = true)\n",
      " |-- school: string (nullable = true)\n",
      " |-- country: string (nullable = true)\n",
      " |-- jersey: string (nullable = true)\n",
      " |-- position: string (nullable = true)\n",
      " |-- rosterstatus: string (nullable = true)\n",
      " |-- games_played_current_season_flag: string (nullable = true)\n",
      " |-- team_id: string (nullable = true)\n",
      " |-- team_name: string (nullable = true)\n",
      " |-- team_city: string (nullable = true)\n",
      " |-- from_year: string (nullable = true)\n",
      " |-- to_year: string (nullable = true)\n",
      "\n"
     ]
    }
   ],
   "source": [
    "df_common_player_info.printSchema()"
   ]
  },
  {
   "cell_type": "code",
   "execution_count": 6,
   "metadata": {},
   "outputs": [
    {
     "name": "stdout",
     "output_type": "stream",
     "text": [
      "root\n",
      " |-- game_id: string (nullable = true)\n",
      " |-- eventnum: string (nullable = true)\n",
      " |-- period: string (nullable = true)\n",
      " |-- wctimestring: string (nullable = true)\n",
      " |-- homedescription: string (nullable = true)\n",
      " |-- visitordescription: string (nullable = true)\n",
      " |-- score: string (nullable = true)\n",
      " |-- scoremargin: string (nullable = true)\n",
      " |-- player1_id: string (nullable = true)\n",
      " |-- player1_name: string (nullable = true)\n",
      " |-- player1_team_id: string (nullable = true)\n",
      "\n"
     ]
    }
   ],
   "source": [
    "df_play_by_play_pts.printSchema()"
   ]
  },
  {
   "cell_type": "code",
   "execution_count": 7,
   "metadata": {},
   "outputs": [
    {
     "name": "stdout",
     "output_type": "stream",
     "text": [
      "root\n",
      " |-- id: string (nullable = true)\n",
      " |-- full_name: string (nullable = true)\n",
      " |-- first_name: string (nullable = true)\n",
      " |-- last_name: string (nullable = true)\n",
      " |-- is_active: string (nullable = true)\n",
      "\n"
     ]
    }
   ],
   "source": [
    "df_player.printSchema()"
   ]
  },
  {
   "cell_type": "code",
   "execution_count": 8,
   "metadata": {},
   "outputs": [
    {
     "name": "stdout",
     "output_type": "stream",
     "text": [
      "root\n",
      " |-- id: string (nullable = true)\n",
      " |-- full_name: string (nullable = true)\n",
      " |-- state: string (nullable = true)\n",
      " |-- year_founded: string (nullable = true)\n",
      "\n"
     ]
    }
   ],
   "source": [
    "df_team.printSchema()"
   ]
  },
  {
   "cell_type": "markdown",
   "metadata": {},
   "source": [
    "## CREACION DE SCHEMAS, CONVIRTIENDO LOS ATRIBUTOS A TIPOS CORRESPONDIENTES"
   ]
  },
  {
   "cell_type": "code",
   "execution_count": 9,
   "metadata": {
    "scrolled": true
   },
   "outputs": [],
   "source": [
    "schema_game = StructType([\n",
    "    StructField(\"team_id_home\", IntegerType(), True),\n",
    "    StructField(\"game_id\", IntegerType(), True),\n",
    "    StructField(\"wl_home\", StringType(), True),\n",
    "    StructField(\"pts_home\", DoubleType(), True),\n",
    "    StructField(\"team_id_away\", IntegerType(), True),\n",
    "    StructField(\"wl_away\", StringType(), True),\n",
    "    StructField(\"pts_away\", DoubleType(), True)\n",
    "])\n",
    "\n",
    "schema_game_summary = StructType([\n",
    "    StructField(\"game_id\", IntegerType(), True),\n",
    "    StructField(\"home_team_id\", IntegerType(), True),\n",
    "    StructField(\"visitor_team_id\", IntegerType(), True),\n",
    "    StructField(\"season\", IntegerType(), True)\n",
    "])\n",
    "\n",
    "schema_common_player_info = StructType([\n",
    "    StructField(\"person_id\", IntegerType(), True),\n",
    "    StructField(\"first_name\", StringType(), True),\n",
    "    StructField(\"last_name\", StringType(), True),\n",
    "    StructField(\"birthdate\", TimestampType(), True),\n",
    "    StructField(\"school\", StringType(), True),\n",
    "    StructField(\"country\", StringType(), True),\n",
    "    StructField(\"jersey\", StringType(), True),\n",
    "    StructField(\"position\", StringType(), True),\n",
    "    StructField(\"rosterstatus\", StringType(), True),\n",
    "    StructField(\"games_played_current_season_flag\", StringType(), True),\n",
    "    StructField(\"team_id\", IntegerType(), True),\n",
    "    StructField(\"team_name\", StringType(), True),\n",
    "    StructField(\"team_city\", StringType(), True),\n",
    "    StructField(\"from_year\", StringType(), True),\n",
    "    StructField(\"to_year\", StringType(), True)\n",
    "])\n",
    "\n",
    "schema_play_by_play_pts = StructType([\n",
    "    StructField(\"game_id\", IntegerType(), True),\n",
    "    StructField(\"eventnum\", IntegerType(), True),\n",
    "    StructField(\"period\", IntegerType(), True),\n",
    "    StructField(\"wctimestring\", StringType(), True),\n",
    "    StructField(\"homedescription\", StringType(), True),\n",
    "    StructField(\"visitordescription\", StringType(), True),\n",
    "    StructField(\"score\", StringType(), True),\n",
    "    StructField(\"scoremargin\", StringType(), True),\n",
    "    StructField(\"player1_id\", IntegerType(), True),\n",
    "    StructField(\"player1_name\", StringType(), True),\n",
    "    StructField(\"player1_team_id\", StringType(), True),\n",
    "])\n",
    "\n",
    "schema_player = StructType([\n",
    "    StructField(\"id\", IntegerType(), True),\n",
    "    StructField(\"full_name\", StringType(), True),\n",
    "    StructField(\"first_name\", StringType(), True),\n",
    "    StructField(\"last_name\", StringType(), True),\n",
    "    StructField(\"is_active\", IntegerType(), True)\n",
    "])\n",
    "\n",
    "schema_team = StructType([\n",
    "    StructField(\"id\", IntegerType(), True),\n",
    "    StructField(\"full_name\", StringType(), True),\n",
    "    StructField(\"state\", StringType(), True),\n",
    "    StructField(\"year_founded\", StringType(), True)\n",
    "])\n",
    "\n",
    "\n",
    "# Lectura del archivo CSV con schema\n",
    "df_game = spark.read.csv('/data_obligatorio_NBA/lnd/game.csv', header=True, sep=',', schema=schema_game)\n",
    "df_game_summary = spark.read.csv('/data_obligatorio_NBA/lnd/game_summary.csv', header=True, sep=',', schema=schema_game_summary)\n",
    "df_common_player_info = spark.read.csv('/data_obligatorio_NBA/lnd/common_player_info.csv', header=True, sep=',', schema=schema_common_player_info)\n",
    "df_play_by_play_pts = spark.read.csv('/data_obligatorio_NBA/lnd/play_by_play_pts.csv', header=True, sep=',', schema=schema_play_by_play_pts)\n",
    "df_player = spark.read.csv('/data_obligatorio_NBA/lnd/player.csv', header=True, sep=',', schema=schema_player)\n",
    "df_team = spark.read.csv('/data_obligatorio_NBA/lnd/team.csv', header=True, sep=',', schema=schema_team)"
   ]
  },
  {
   "cell_type": "markdown",
   "metadata": {},
   "source": [
    "## CONVERSION DE TIPOS DE DATOS MAL REPRESENTADOS EN LA FUENTE DE DATOS"
   ]
  },
  {
   "cell_type": "code",
   "execution_count": 10,
   "metadata": {},
   "outputs": [
    {
     "name": "stdout",
     "output_type": "stream",
     "text": [
      "+--------+--------+\n",
      "|pts_home|pts_away|\n",
      "+--------+--------+\n",
      "|    66.0|    68.0|\n",
      "|    56.0|    51.0|\n",
      "|    59.0|    53.0|\n",
      "|    63.0|    47.0|\n",
      "|    33.0|    50.0|\n",
      "|    71.0|    60.0|\n",
      "|    56.0|    71.0|\n",
      "|    55.0|    57.0|\n",
      "|    49.0|    53.0|\n",
      "|    73.0|    65.0|\n",
      "+--------+--------+\n",
      "only showing top 10 rows\n",
      "\n",
      "+--------+--------+\n",
      "|pts_home|pts_away|\n",
      "+--------+--------+\n",
      "|      66|      68|\n",
      "|      56|      51|\n",
      "|      59|      53|\n",
      "|      63|      47|\n",
      "|      33|      50|\n",
      "|      71|      60|\n",
      "|      56|      71|\n",
      "|      55|      57|\n",
      "|      49|      53|\n",
      "|      73|      65|\n",
      "+--------+--------+\n",
      "only showing top 10 rows\n",
      "\n"
     ]
    }
   ],
   "source": [
    "df_game.select(\"pts_home\", \"pts_away\").show(10)\n",
    "df_game = df_game.withColumn(\"pts_home\", df_game[\"pts_home\"].cast(\"int\"))\n",
    "df_game = df_game.withColumn(\"pts_away\", df_game[\"pts_away\"].cast(\"int\"))\n",
    "df_game.select(\"pts_home\", \"pts_away\").show(10)"
   ]
  },
  {
   "cell_type": "code",
   "execution_count": 11,
   "metadata": {},
   "outputs": [
    {
     "name": "stdout",
     "output_type": "stream",
     "text": [
      "+---------+-------+\n",
      "|from_year|to_year|\n",
      "+---------+-------+\n",
      "|   1990.0| 1994.0|\n",
      "|   1968.0| 1977.0|\n",
      "|   1969.0| 1988.0|\n",
      "|   1996.0| 2007.0|\n",
      "|   1956.0| 1956.0|\n",
      "|   1946.0| 1947.0|\n",
      "|   2016.0| 2018.0|\n",
      "|   2020.0| 2023.0|\n",
      "|   2012.0| 2018.0|\n",
      "|   1975.0| 1987.0|\n",
      "+---------+-------+\n",
      "only showing top 10 rows\n",
      "\n",
      "+---------+-------+\n",
      "|from_year|to_year|\n",
      "+---------+-------+\n",
      "|     1990|   1994|\n",
      "|     1968|   1977|\n",
      "|     1969|   1988|\n",
      "|     1996|   2007|\n",
      "|     1956|   1956|\n",
      "|     1946|   1947|\n",
      "|     2016|   2018|\n",
      "|     2020|   2023|\n",
      "|     2012|   2018|\n",
      "|     1975|   1987|\n",
      "+---------+-------+\n",
      "only showing top 10 rows\n",
      "\n"
     ]
    }
   ],
   "source": [
    "df_common_player_info.select(\"from_year\", \"to_year\").show(10)\n",
    "df_common_player_info = df_common_player_info.withColumn(\"from_year\", df_common_player_info[\"from_year\"].cast(\"int\"))\n",
    "df_common_player_info = df_common_player_info.withColumn(\"to_year\", df_common_player_info[\"to_year\"].cast(\"int\"))\n",
    "df_common_player_info.select(\"from_year\", \"to_year\").show(10)"
   ]
  },
  {
   "cell_type": "code",
   "execution_count": 12,
   "metadata": {},
   "outputs": [
    {
     "name": "stdout",
     "output_type": "stream",
     "text": [
      "+---------------+\n",
      "|player1_team_id|\n",
      "+---------------+\n",
      "|   1610612747.0|\n",
      "|   1610612747.0|\n",
      "|   1610612756.0|\n",
      "|   1610612756.0|\n",
      "|   1610612756.0|\n",
      "|   1610612747.0|\n",
      "|   1610612747.0|\n",
      "|   1610612747.0|\n",
      "|   1610612756.0|\n",
      "|   1610612756.0|\n",
      "+---------------+\n",
      "only showing top 10 rows\n",
      "\n",
      "+---------------+\n",
      "|player1_team_id|\n",
      "+---------------+\n",
      "|     1610612747|\n",
      "|     1610612747|\n",
      "|     1610612756|\n",
      "|     1610612756|\n",
      "|     1610612756|\n",
      "|     1610612747|\n",
      "|     1610612747|\n",
      "|     1610612747|\n",
      "|     1610612756|\n",
      "|     1610612756|\n",
      "+---------------+\n",
      "only showing top 10 rows\n",
      "\n"
     ]
    }
   ],
   "source": [
    "df_play_by_play_pts.select(\"player1_team_id\").show(10)\n",
    "df_play_by_play_pts = df_play_by_play_pts.withColumn(\"player1_team_id\", df_play_by_play_pts[\"player1_team_id\"].cast(\"int\"))\n",
    "df_play_by_play_pts.select(\"player1_team_id\").show(10)"
   ]
  },
  {
   "cell_type": "code",
   "execution_count": 13,
   "metadata": {},
   "outputs": [
    {
     "name": "stdout",
     "output_type": "stream",
     "text": [
      "+------------+\n",
      "|year_founded|\n",
      "+------------+\n",
      "|      1949.0|\n",
      "|      1946.0|\n",
      "|      1970.0|\n",
      "|      2002.0|\n",
      "|      1966.0|\n",
      "|      1980.0|\n",
      "|      1976.0|\n",
      "|      1946.0|\n",
      "|      1967.0|\n",
      "|      1970.0|\n",
      "+------------+\n",
      "only showing top 10 rows\n",
      "\n",
      "+------------+\n",
      "|year_founded|\n",
      "+------------+\n",
      "|        1949|\n",
      "|        1946|\n",
      "|        1970|\n",
      "|        2002|\n",
      "|        1966|\n",
      "|        1980|\n",
      "|        1976|\n",
      "|        1946|\n",
      "|        1967|\n",
      "|        1970|\n",
      "+------------+\n",
      "only showing top 10 rows\n",
      "\n"
     ]
    }
   ],
   "source": [
    "df_team.select(\"year_founded\").show(10)\n",
    "df_team = df_team.withColumn(\"year_founded\", df_team[\"year_founded\"].cast(\"int\"))\n",
    "df_team.select(\"year_founded\").show(10)"
   ]
  },
  {
   "cell_type": "markdown",
   "metadata": {},
   "source": [
    "## GESTION DE DUPLICADOS"
   ]
  },
  {
   "cell_type": "markdown",
   "metadata": {},
   "source": [
    "###  ELIMINACION DE DUPLICADOS"
   ]
  },
  {
   "cell_type": "code",
   "execution_count": 14,
   "metadata": {},
   "outputs": [],
   "source": [
    "# eliminar duplicados\n",
    "df_game = df_game.dropDuplicates()\n",
    "df_game_summary = df_game_summary.dropDuplicates()\n",
    "df_common_player_info = df_common_player_info.dropDuplicates()\n",
    "df_play_by_play_pts = df_play_by_play_pts.dropDuplicates()\n",
    "df_player = df_player.dropDuplicates()\n",
    "df_team = df_team.dropDuplicates()"
   ]
  },
  {
   "cell_type": "markdown",
   "metadata": {},
   "source": [
    "### VERIFICACION DE LA ELIMINACION DE LOS DUPLICADOS (NO DEBE HABER RETORNO)"
   ]
  },
  {
   "cell_type": "code",
   "execution_count": 15,
   "metadata": {},
   "outputs": [
    {
     "name": "stderr",
     "output_type": "stream",
     "text": [
      "[Stage 14:>                                                         (0 + 1) / 1]"
     ]
    },
    {
     "name": "stdout",
     "output_type": "stream",
     "text": [
      "+-------+-----+\n",
      "|game_id|count|\n",
      "+-------+-----+\n",
      "+-------+-----+\n",
      "\n"
     ]
    },
    {
     "name": "stderr",
     "output_type": "stream",
     "text": [
      "                                                                                "
     ]
    }
   ],
   "source": [
    "df_game.groupBy(\"game_id\") \\\n",
    "    .count() \\\n",
    "    .filter(\"count > 1\") \\\n",
    "    .orderBy(\"count\", ascending=False) \\\n",
    "    .show()"
   ]
  },
  {
   "cell_type": "code",
   "execution_count": 16,
   "metadata": {},
   "outputs": [
    {
     "name": "stdout",
     "output_type": "stream",
     "text": [
      "+-------+-----+\n",
      "|game_id|count|\n",
      "+-------+-----+\n",
      "+-------+-----+\n",
      "\n"
     ]
    }
   ],
   "source": [
    "df_game_summary.groupBy(\"game_id\") \\\n",
    "    .count() \\\n",
    "    .filter(\"count > 1\") \\\n",
    "    .orderBy(\"count\", ascending=False) \\\n",
    "    .show()"
   ]
  },
  {
   "cell_type": "code",
   "execution_count": 17,
   "metadata": {},
   "outputs": [
    {
     "name": "stdout",
     "output_type": "stream",
     "text": [
      "+---------+-----+\n",
      "|person_id|count|\n",
      "+---------+-----+\n",
      "+---------+-----+\n",
      "\n"
     ]
    }
   ],
   "source": [
    "df_common_player_info.groupBy(\"person_id\") \\\n",
    "    .count() \\\n",
    "    .filter(\"count > 1\") \\\n",
    "    .orderBy(\"count\", ascending=False) \\\n",
    "    .show()"
   ]
  },
  {
   "cell_type": "code",
   "execution_count": 18,
   "metadata": {},
   "outputs": [
    {
     "name": "stderr",
     "output_type": "stream",
     "text": [
      "[Stage 34:>                                                         (0 + 2) / 5]"
     ]
    },
    {
     "name": "stdout",
     "output_type": "stream",
     "text": [
      "2025-07-08T13:30:20,541 WARN [Executor task launch worker for task 0.0 in stage 34.0 (TID 26)] org.apache.spark.sql.catalyst.expressions.RowBasedKeyValueBatch - Calling spill() on RowBasedKeyValueBatch. Will not spill but return 0.\n",
      "2025-07-08T13:30:20,629 WARN [Executor task launch worker for task 0.0 in stage 34.0 (TID 26)] org.apache.spark.sql.catalyst.expressions.RowBasedKeyValueBatch - Calling spill() on RowBasedKeyValueBatch. Will not spill but return 0.\n",
      "2025-07-08T13:30:20,669 WARN [Executor task launch worker for task 1.0 in stage 34.0 (TID 27)] org.apache.spark.sql.catalyst.expressions.RowBasedKeyValueBatch - Calling spill() on RowBasedKeyValueBatch. Will not spill but return 0.\n",
      "2025-07-08T13:30:20,726 WARN [Executor task launch worker for task 1.0 in stage 34.0 (TID 27)] org.apache.spark.sql.catalyst.expressions.RowBasedKeyValueBatch - Calling spill() on RowBasedKeyValueBatch. Will not spill but return 0.\n"
     ]
    },
    {
     "name": "stderr",
     "output_type": "stream",
     "text": [
      "[Stage 34:=======================>                                  (2 + 2) / 5]"
     ]
    },
    {
     "name": "stdout",
     "output_type": "stream",
     "text": [
      "2025-07-08T13:30:25,843 WARN [Executor task launch worker for task 3.0 in stage 34.0 (TID 29)] org.apache.spark.sql.catalyst.expressions.RowBasedKeyValueBatch - Calling spill() on RowBasedKeyValueBatch. Will not spill but return 0.\n",
      "2025-07-08T13:30:25,865 WARN [Executor task launch worker for task 2.0 in stage 34.0 (TID 28)] org.apache.spark.sql.catalyst.expressions.RowBasedKeyValueBatch - Calling spill() on RowBasedKeyValueBatch. Will not spill but return 0.\n",
      "2025-07-08T13:30:25,905 WARN [Executor task launch worker for task 3.0 in stage 34.0 (TID 29)] org.apache.spark.sql.catalyst.expressions.RowBasedKeyValueBatch - Calling spill() on RowBasedKeyValueBatch. Will not spill but return 0.\n"
     ]
    },
    {
     "name": "stderr",
     "output_type": "stream",
     "text": [
      "[Stage 37:>                                                         (0 + 2) / 2]"
     ]
    },
    {
     "name": "stdout",
     "output_type": "stream",
     "text": [
      "+-------+--------+-----+\n",
      "|game_id|eventnum|count|\n",
      "+-------+--------+-----+\n",
      "+-------+--------+-----+\n",
      "\n"
     ]
    },
    {
     "name": "stderr",
     "output_type": "stream",
     "text": [
      "                                                                                "
     ]
    }
   ],
   "source": [
    "df_play_by_play_pts.groupBy(\"game_id\", \"eventnum\") \\\n",
    "    .count() \\\n",
    "    .filter(\"count > 1\") \\\n",
    "    .orderBy(\"count\", ascending=False) \\\n",
    "    .show()"
   ]
  },
  {
   "cell_type": "code",
   "execution_count": 19,
   "metadata": {},
   "outputs": [
    {
     "name": "stdout",
     "output_type": "stream",
     "text": [
      "+---+-----+\n",
      "| id|count|\n",
      "+---+-----+\n",
      "+---+-----+\n",
      "\n"
     ]
    }
   ],
   "source": [
    "df_player.groupBy(\"id\") \\\n",
    "    .count() \\\n",
    "    .filter(\"count > 1\") \\\n",
    "    .orderBy(\"count\", ascending=False) \\\n",
    "    .show()"
   ]
  },
  {
   "cell_type": "code",
   "execution_count": 20,
   "metadata": {},
   "outputs": [
    {
     "name": "stdout",
     "output_type": "stream",
     "text": [
      "+---+-----+\n",
      "| id|count|\n",
      "+---+-----+\n",
      "+---+-----+\n",
      "\n"
     ]
    }
   ],
   "source": [
    "df_team.groupBy(\"id\") \\\n",
    "    .count() \\\n",
    "    .filter(\"count > 1\") \\\n",
    "    .orderBy(\"count\", ascending=False) \\\n",
    "    .show()"
   ]
  },
  {
   "cell_type": "markdown",
   "metadata": {},
   "source": [
    "## GESTION DE NULOS"
   ]
  },
  {
   "cell_type": "markdown",
   "metadata": {},
   "source": [
    "### ELIMINACION DE DATOS NULOS"
   ]
  },
  {
   "cell_type": "code",
   "execution_count": 21,
   "metadata": {
    "scrolled": true
   },
   "outputs": [],
   "source": [
    "for field in df_game.schema.fields:\n",
    "    name = field.name\n",
    "    dtype = field.dataType\n",
    "    \n",
    "    if isinstance(dtype, StringType):\n",
    "        default_value = lit(\"Undefined\")\n",
    "        condition = col(name).isNull() | (trim(col(name)) == \"\")\n",
    "    elif isinstance(dtype, IntegerType):\n",
    "        default_value = lit(-1)\n",
    "        condition = col(name).isNull()\n",
    "\n",
    "    df_game = df_game.withColumn(\n",
    "        name,\n",
    "        when(col(name).isNull() |\n",
    "             ((col(name).cast(\"string\").isNotNull()) & (trim(col(name)) == \"\")), default_value)\n",
    "        .otherwise(col(name))\n",
    "    )"
   ]
  },
  {
   "cell_type": "code",
   "execution_count": 22,
   "metadata": {},
   "outputs": [],
   "source": [
    "for field in df_common_player_info.schema.fields:\n",
    "    name = field.name\n",
    "    dtype = field.dataType\n",
    "    \n",
    "    if isinstance(dtype, StringType):\n",
    "        default_value = lit(\"Undefined\")\n",
    "        condition = col(name).isNull() | (trim(col(name)) == \"\")\n",
    "    elif isinstance(dtype, IntegerType):\n",
    "        default_value = lit(-1)\n",
    "        condition = col(name).isNull()\n",
    "\n",
    "    df_common_player_info = df_common_player_info.withColumn(\n",
    "        name,\n",
    "        when(col(name).isNull() |\n",
    "             ((col(name).cast(\"string\").isNotNull()) & (trim(col(name)) == \"\")), default_value)\n",
    "        .otherwise(col(name))\n",
    "    )"
   ]
  },
  {
   "cell_type": "code",
   "execution_count": 23,
   "metadata": {},
   "outputs": [],
   "source": [
    "for field in df_play_by_play_pts.schema.fields:\n",
    "    name = field.name\n",
    "    dtype = field.dataType\n",
    "    \n",
    "    if isinstance(dtype, StringType):\n",
    "        default_value = lit(\"Undefined\")\n",
    "        condition = col(name).isNull() | (trim(col(name)) == \"\")\n",
    "    elif isinstance(dtype, IntegerType):\n",
    "        default_value = lit(-1)\n",
    "        condition = col(name).isNull()\n",
    "\n",
    "    df_play_by_play_pts = df_play_by_play_pts.withColumn(\n",
    "        name,\n",
    "        when(col(name).isNull() |\n",
    "             ((col(name).cast(\"string\").isNotNull()) & (trim(col(name)) == \"\")), default_value)\n",
    "        .otherwise(col(name))\n",
    "    )"
   ]
  },
  {
   "cell_type": "markdown",
   "metadata": {},
   "source": [
    "### VERIFICACION DE LA ELIMINACION DE NULOS"
   ]
  },
  {
   "cell_type": "code",
   "execution_count": 24,
   "metadata": {},
   "outputs": [
    {
     "name": "stdout",
     "output_type": "stream",
     "text": [
      "+------------+-------+-------+--------+------------+-------+--------+\n",
      "|team_id_home|game_id|wl_home|pts_home|team_id_away|wl_away|pts_away|\n",
      "+------------+-------+-------+--------+------------+-------+--------+\n",
      "|           0|      0|      0|       0|           0|      0|       0|\n",
      "+------------+-------+-------+--------+------------+-------+--------+\n",
      "\n"
     ]
    }
   ],
   "source": [
    "null_or_empty_counts = df_game.select([\n",
    "    sum(\n",
    "        when(\n",
    "            col(c).isNull() | \n",
    "            ((col(c).cast(\"string\").isNotNull()) & (trim(col(c)) == \"\")), 1\n",
    "        ).otherwise(0)\n",
    "    ).alias(c)\n",
    "    for c in df_game.columns\n",
    "])\n",
    "\n",
    "null_or_empty_counts.show()\n"
   ]
  },
  {
   "cell_type": "code",
   "execution_count": 25,
   "metadata": {},
   "outputs": [
    {
     "name": "stdout",
     "output_type": "stream",
     "text": [
      "+---------+----------+---------+---------+------+-------+------+--------+------------+--------------------------------+-------+---------+---------+---------+-------+\n",
      "|person_id|first_name|last_name|birthdate|school|country|jersey|position|rosterstatus|games_played_current_season_flag|team_id|team_name|team_city|from_year|to_year|\n",
      "+---------+----------+---------+---------+------+-------+------+--------+------------+--------------------------------+-------+---------+---------+---------+-------+\n",
      "|        0|         0|        0|        0|     0|      0|     0|       0|           0|                               0|      0|        0|        0|        0|      0|\n",
      "+---------+----------+---------+---------+------+-------+------+--------+------------+--------------------------------+-------+---------+---------+---------+-------+\n",
      "\n"
     ]
    }
   ],
   "source": [
    "null_or_empty_counts = df_common_player_info.select([\n",
    "    sum(\n",
    "        when(\n",
    "            col(c).isNull() | \n",
    "            ((col(c).cast(\"string\").isNotNull()) & (trim(col(c)) == \"\")), 1\n",
    "        ).otherwise(0)\n",
    "    ).alias(c)\n",
    "    for c in df_common_player_info.columns\n",
    "])\n",
    "\n",
    "null_or_empty_counts.show()\n"
   ]
  },
  {
   "cell_type": "code",
   "execution_count": 26,
   "metadata": {},
   "outputs": [
    {
     "name": "stderr",
     "output_type": "stream",
     "text": [
      "[Stage 64:==============================================>           (4 + 1) / 5]"
     ]
    },
    {
     "name": "stdout",
     "output_type": "stream",
     "text": [
      "+-------+--------+------+------------+---------------+------------------+-----+-----------+----------+------------+---------------+\n",
      "|game_id|eventnum|period|wctimestring|homedescription|visitordescription|score|scoremargin|player1_id|player1_name|player1_team_id|\n",
      "+-------+--------+------+------------+---------------+------------------+-----+-----------+----------+------------+---------------+\n",
      "|      0|       0|     0|           0|              0|                 0|    0|          0|         0|           0|              0|\n",
      "+-------+--------+------+------------+---------------+------------------+-----+-----------+----------+------------+---------------+\n",
      "\n"
     ]
    },
    {
     "name": "stderr",
     "output_type": "stream",
     "text": [
      "                                                                                "
     ]
    }
   ],
   "source": [
    "null_or_empty_counts = df_play_by_play_pts.select([\n",
    "    sum(\n",
    "        when(\n",
    "            col(c).isNull() | \n",
    "            ((col(c).cast(\"string\").isNotNull()) & (trim(col(c)) == \"\")), 1\n",
    "        ).otherwise(0)\n",
    "    ).alias(c)\n",
    "    for c in df_play_by_play_pts.columns\n",
    "])\n",
    "\n",
    "null_or_empty_counts.show()\n"
   ]
  },
  {
   "cell_type": "markdown",
   "metadata": {},
   "source": [
    "## VALIDACION DE UNICIDAD DE CLAVES"
   ]
  },
  {
   "cell_type": "code",
   "execution_count": 27,
   "metadata": {},
   "outputs": [],
   "source": [
    "def unique_key(df, col):\n",
    "    tot_rows = df.count()\n",
    "    primary_row = df.select(col).distinct().count()\n",
    "    \n",
    "    if tot_rows == primary_row:\n",
    "        print(f\"UNIQUE KEY\")\n",
    "    else:\n",
    "        print(f\"NOT UNIQUE KEY\")"
   ]
  },
  {
   "cell_type": "code",
   "execution_count": 28,
   "metadata": {},
   "outputs": [
    {
     "name": "stdout",
     "output_type": "stream",
     "text": [
      "UNIQUE KEY\n"
     ]
    }
   ],
   "source": [
    "unique_key(df_game, \"game_id\")"
   ]
  },
  {
   "cell_type": "code",
   "execution_count": 29,
   "metadata": {},
   "outputs": [
    {
     "name": "stdout",
     "output_type": "stream",
     "text": [
      "UNIQUE KEY\n"
     ]
    }
   ],
   "source": [
    "unique_key(df_game_summary, \"game_id\")"
   ]
  },
  {
   "cell_type": "code",
   "execution_count": 30,
   "metadata": {},
   "outputs": [
    {
     "name": "stdout",
     "output_type": "stream",
     "text": [
      "UNIQUE KEY\n"
     ]
    }
   ],
   "source": [
    "unique_key(df_common_player_info, \"person_id\")"
   ]
  },
  {
   "cell_type": "code",
   "execution_count": 31,
   "metadata": {},
   "outputs": [
    {
     "name": "stderr",
     "output_type": "stream",
     "text": [
      "[Stage 112:>                                                        (0 + 2) / 2]"
     ]
    },
    {
     "name": "stdout",
     "output_type": "stream",
     "text": [
      "UNIQUE KEY\n"
     ]
    },
    {
     "name": "stderr",
     "output_type": "stream",
     "text": [
      "                                                                                "
     ]
    }
   ],
   "source": [
    "unique_key(df_play_by_play_pts, [\"game_id\", \"eventnum\"])"
   ]
  },
  {
   "cell_type": "code",
   "execution_count": 32,
   "metadata": {},
   "outputs": [
    {
     "name": "stdout",
     "output_type": "stream",
     "text": [
      "UNIQUE KEY\n"
     ]
    }
   ],
   "source": [
    "unique_key(df_player, \"id\")"
   ]
  },
  {
   "cell_type": "code",
   "execution_count": 33,
   "metadata": {},
   "outputs": [
    {
     "name": "stdout",
     "output_type": "stream",
     "text": [
      "UNIQUE KEY\n"
     ]
    }
   ],
   "source": [
    "unique_key(df_team, \"id\")"
   ]
  },
  {
   "cell_type": "markdown",
   "metadata": {},
   "source": [
    "## IMPRESION DE LAS COLUMNAS DE LOS DF FINALES CON SUS TIPOS"
   ]
  },
  {
   "cell_type": "code",
   "execution_count": 34,
   "metadata": {},
   "outputs": [
    {
     "name": "stdout",
     "output_type": "stream",
     "text": [
      "root\n",
      " |-- team_id_home: integer (nullable = true)\n",
      " |-- game_id: integer (nullable = true)\n",
      " |-- wl_home: string (nullable = true)\n",
      " |-- pts_home: integer (nullable = true)\n",
      " |-- team_id_away: integer (nullable = true)\n",
      " |-- wl_away: string (nullable = true)\n",
      " |-- pts_away: integer (nullable = true)\n",
      "\n"
     ]
    }
   ],
   "source": [
    "df_game.printSchema()"
   ]
  },
  {
   "cell_type": "code",
   "execution_count": 35,
   "metadata": {},
   "outputs": [
    {
     "name": "stdout",
     "output_type": "stream",
     "text": [
      "root\n",
      " |-- game_id: integer (nullable = true)\n",
      " |-- home_team_id: integer (nullable = true)\n",
      " |-- visitor_team_id: integer (nullable = true)\n",
      " |-- season: integer (nullable = true)\n",
      "\n"
     ]
    }
   ],
   "source": [
    "df_game_summary.printSchema()"
   ]
  },
  {
   "cell_type": "code",
   "execution_count": 36,
   "metadata": {},
   "outputs": [
    {
     "name": "stdout",
     "output_type": "stream",
     "text": [
      "root\n",
      " |-- person_id: integer (nullable = true)\n",
      " |-- first_name: string (nullable = true)\n",
      " |-- last_name: string (nullable = true)\n",
      " |-- birthdate: string (nullable = true)\n",
      " |-- school: string (nullable = true)\n",
      " |-- country: string (nullable = true)\n",
      " |-- jersey: string (nullable = true)\n",
      " |-- position: string (nullable = true)\n",
      " |-- rosterstatus: string (nullable = true)\n",
      " |-- games_played_current_season_flag: string (nullable = true)\n",
      " |-- team_id: integer (nullable = true)\n",
      " |-- team_name: string (nullable = true)\n",
      " |-- team_city: string (nullable = true)\n",
      " |-- from_year: integer (nullable = true)\n",
      " |-- to_year: integer (nullable = true)\n",
      "\n"
     ]
    }
   ],
   "source": [
    "df_common_player_info.printSchema()"
   ]
  },
  {
   "cell_type": "code",
   "execution_count": 37,
   "metadata": {},
   "outputs": [
    {
     "name": "stdout",
     "output_type": "stream",
     "text": [
      "root\n",
      " |-- game_id: integer (nullable = true)\n",
      " |-- eventnum: integer (nullable = true)\n",
      " |-- period: integer (nullable = true)\n",
      " |-- wctimestring: string (nullable = true)\n",
      " |-- homedescription: string (nullable = true)\n",
      " |-- visitordescription: string (nullable = true)\n",
      " |-- score: string (nullable = true)\n",
      " |-- scoremargin: string (nullable = true)\n",
      " |-- player1_id: integer (nullable = true)\n",
      " |-- player1_name: string (nullable = true)\n",
      " |-- player1_team_id: integer (nullable = true)\n",
      "\n"
     ]
    }
   ],
   "source": [
    "df_play_by_play_pts.printSchema()"
   ]
  },
  {
   "cell_type": "code",
   "execution_count": 38,
   "metadata": {},
   "outputs": [
    {
     "name": "stdout",
     "output_type": "stream",
     "text": [
      "root\n",
      " |-- id: integer (nullable = true)\n",
      " |-- full_name: string (nullable = true)\n",
      " |-- first_name: string (nullable = true)\n",
      " |-- last_name: string (nullable = true)\n",
      " |-- is_active: integer (nullable = true)\n",
      "\n"
     ]
    }
   ],
   "source": [
    "df_player.printSchema()"
   ]
  },
  {
   "cell_type": "code",
   "execution_count": 39,
   "metadata": {},
   "outputs": [
    {
     "name": "stdout",
     "output_type": "stream",
     "text": [
      "root\n",
      " |-- id: integer (nullable = true)\n",
      " |-- full_name: string (nullable = true)\n",
      " |-- state: string (nullable = true)\n",
      " |-- year_founded: integer (nullable = true)\n",
      "\n"
     ]
    }
   ],
   "source": [
    "df_team.printSchema()"
   ]
  },
  {
   "cell_type": "markdown",
   "metadata": {},
   "source": [
    "## VISUALIZACION DE LOS PRIMEROS DATOS DE LOS DF FINALES"
   ]
  },
  {
   "cell_type": "code",
   "execution_count": 40,
   "metadata": {},
   "outputs": [
    {
     "name": "stdout",
     "output_type": "stream",
     "text": [
      "+------------+--------+-------+--------+------------+-------+--------+\n",
      "|team_id_home| game_id|wl_home|pts_home|team_id_away|wl_away|pts_away|\n",
      "+------------+--------+-------+--------+------------+-------+--------+\n",
      "|  1610610026|24600156|      L|      74|  1610610032|      W|      78|\n",
      "|  1610612738|24600187|      L|      57|  1610610036|      W|      80|\n",
      "|  1610612747|24800213|      W|      89|  1610612744|      L|      71|\n",
      "|  1610612765|24800254|      W|      89|  1610612744|      L|      87|\n",
      "|  1610610029|24800326|      L|      80|  1610610034|      W|      81|\n",
      "|  1610610025|44800212|      L|      85|  1610612747|      W|     101|\n",
      "|  1610610036|25000004|      W|     100|  1610610030|      L|      84|\n",
      "|  1610612755|25000213|      L|      86|  1610612744|      W|      96|\n",
      "|  1610612738|25000260|      W|      85|  1610612737|      L|      70|\n",
      "|  1610610024|25000270|      L|      72|  1610612755|      W|      80|\n",
      "+------------+--------+-------+--------+------------+-------+--------+\n",
      "only showing top 10 rows\n",
      "\n"
     ]
    }
   ],
   "source": [
    "df_game.show(10)"
   ]
  },
  {
   "cell_type": "code",
   "execution_count": 41,
   "metadata": {},
   "outputs": [
    {
     "name": "stdout",
     "output_type": "stream",
     "text": [
      "+--------+------------+---------------+------+\n",
      "| game_id|home_team_id|visitor_team_id|season|\n",
      "+--------+------------+---------------+------+\n",
      "|24600033|  1610610031|     1610610035|  1946|\n",
      "|24600302|  1610612738|     1610610026|  1946|\n",
      "|44600212|  1610612752|     1610612744|  1946|\n",
      "|24800250|  1610612747|     1610612758|  1948|\n",
      "|24800253|  1610610029|     1610612744|  1948|\n",
      "|24900180|  1610610024|     1610612747|  1949|\n",
      "|25000079|  1610612737|     1610610024|  1950|\n",
      "|25100011|  1610612758|     1610612747|  1951|\n",
      "|25100142|  1610612752|     1610612738|  1951|\n",
      "|25100151|  1610612744|     1610610024|  1951|\n",
      "+--------+------------+---------------+------+\n",
      "only showing top 10 rows\n",
      "\n"
     ]
    }
   ],
   "source": [
    "df_game_summary.show(10)"
   ]
  },
  {
   "cell_type": "code",
   "execution_count": 42,
   "metadata": {},
   "outputs": [
    {
     "name": "stdout",
     "output_type": "stream",
     "text": [
      "+---------+----------+---------+-------------------+------------------+-------+------+--------------+\n",
      "|person_id|first_name|last_name|          birthdate|            school|country|jersey|      position|\n",
      "+---------+----------+---------+-------------------+------------------+-------+------+--------------+\n",
      "|   201587|   Nicolas|    Batum|1988-12-14 00:00:00|           Le Mans| France|    33| Guard-Forward|\n",
      "|  1628418|    Thomas|   Bryant|1997-07-31 00:00:00|           Indiana|    USA|    13|Center-Forward|\n",
      "|    76590|      Leon|  Douglas|1954-08-26 00:00:00|           Alabama|    USA|    13|        Center|\n",
      "|  1629164|   Brandon|  Goodwin|1995-10-02 00:00:00|Florida Gulf Coast|    USA|    00|         Guard|\n",
      "|     2580|    Travis|   Hansen|1978-04-15 00:00:00|     Brigham Young|    USA|     6| Guard-Forward|\n",
      "|  1626209|     Mario|  Hezonja|1995-02-25 00:00:00|      FC Barcelona|Croatia|    44| Forward-Guard|\n",
      "|    77194|     Robin|    Jones|1954-02-02 00:00:00|         St. Louis|    USA|    34|        Center|\n",
      "|    77292|      Dick| Knostman|1931-08-09 00:00:00|      Kansas State|    USA|    10|        Center|\n",
      "|    77486|    Marlon|    Maxey|1969-02-19 00:00:00|     Texas-El Paso|    USA|    25|       Forward|\n",
      "|    77615|      Mike| Mitchell|1956-01-01 00:00:00|            Auburn|    USA|    34|       Forward|\n",
      "+---------+----------+---------+-------------------+------------------+-------+------+--------------+\n",
      "only showing top 10 rows\n",
      "\n"
     ]
    }
   ],
   "source": [
    "df_common_player_info.select(\"person_id\", \"first_name\", \"last_name\", \"birthdate\", \"school\", \"country\", \"jersey\", \"position\").show(10)"
   ]
  },
  {
   "cell_type": "code",
   "execution_count": 43,
   "metadata": {},
   "outputs": [
    {
     "name": "stdout",
     "output_type": "stream",
     "text": [
      "+------------+--------------------------------+----------+-------------+-----------+---------+-------+\n",
      "|rosterstatus|games_played_current_season_flag|   team_id|    team_name|  team_city|from_year|to_year|\n",
      "+------------+--------------------------------+----------+-------------+-----------+---------+-------+\n",
      "|      Active|                               N|1610612746|     Clippers|         LA|     2008|   2023|\n",
      "|      Active|                               N|1610612748|         Heat|      Miami|     2017|   2023|\n",
      "|    Inactive|                               N|1610612765|      Pistons|    Detroit|     1976|   1982|\n",
      "|    Inactive|                               N|1610612739|    Cavaliers|  Cleveland|     2018|   2021|\n",
      "|    Inactive|                               N|1610612737|        Hawks|    Atlanta|     2003|   2003|\n",
      "|    Inactive|                               N|1610612753|        Magic|    Orlando|     2015|   2019|\n",
      "|    Inactive|                               N|1610612757|Trail Blazers|   Portland|     1976|   1977|\n",
      "|    Inactive|                               N|1610612755|    Nationals|   Syracuse|     1953|   1953|\n",
      "|    Inactive|                               N|1610612750| Timberwolves|  Minnesota|     1992|   1993|\n",
      "|    Inactive|                               N|1610612759|        Spurs|San Antonio|     1978|   1987|\n",
      "+------------+--------------------------------+----------+-------------+-----------+---------+-------+\n",
      "only showing top 10 rows\n",
      "\n"
     ]
    }
   ],
   "source": [
    "df_common_player_info.select(\"rosterstatus\", \"games_played_current_season_flag\", \"team_id\", \"team_name\", \"team_city\", \"from_year\", \"to_year\").show(10)"
   ]
  },
  {
   "cell_type": "code",
   "execution_count": 44,
   "metadata": {},
   "outputs": [
    {
     "name": "stderr",
     "output_type": "stream",
     "text": [
      "[Stage 154:>                                                        (0 + 1) / 1]"
     ]
    },
    {
     "name": "stdout",
     "output_type": "stream",
     "text": [
      "+--------+--------+------+------------+--------------------+--------------------+---------+-----------+----------+--------------------+---------------+\n",
      "| game_id|eventnum|period|wctimestring|     homedescription|  visitordescription|    score|scoremargin|player1_id|        player1_name|player1_team_id|\n",
      "+--------+--------+------+------------+--------------------+--------------------+---------+-----------+----------+--------------------+---------------+\n",
      "|20200222|       8|     1|   Undefined|World Peace Free ...|           Undefined|    0 - 1|          1|      1897|   Metta World Peace|     1610612754|\n",
      "|20000814|     156|     2|  -10:0-14 A|Manning  Layup (4...|           Undefined|  31 - 31|        TIE|       330|       Danny Manning|     1610612762|\n",
      "|20400395|     471|     4|    10:00 PM|Laettner Free Thr...|           Undefined|100 - 107|          7|       363|  Christian Laettner|     1610612748|\n",
      "|20200134|     420|     4|    10:00 PM|Garnett  Layup (2...|           Undefined|  85 - 79|         -6|       708|       Kevin Garnett|     1610612750|\n",
      "|20100021|     275|     3|    10:00 PM|           Undefined|McInnis 20' Jump ...|  53 - 49|         -4|       976|        Jeff McInnis|     1610612746|\n",
      "|20101188|      76|     1|    10:00 PM|           Undefined|Funderburke  Reve...|  12 - 20|          8|      1444|Lawrence Funderburke|     1610612758|\n",
      "|20500558|     221|     3|    10:00 PM|Duncan Free Throw...|           Undefined|  40 - 42|          2|      1495|          Tim Duncan|     1610612759|\n",
      "|20100856|     386|     4|    10:00 PM|           Undefined|Hudson Free Throw...|  75 - 87|         12|      1607|         Troy Hudson|     1610612753|\n",
      "|20501030|     187|     2|    10:00 PM|           Undefined|Miller 13' Jump S...|  31 - 42|         11|      1889|        Andre Miller|     1610612743|\n",
      "|20401199|     415|     4|    10:00 PM|Crawford 24' 3PT ...|           Undefined|101 - 104|          3|      2037|      Jamal Crawford|     1610612752|\n",
      "+--------+--------+------+------------+--------------------+--------------------+---------+-----------+----------+--------------------+---------------+\n",
      "only showing top 10 rows\n",
      "\n"
     ]
    },
    {
     "name": "stderr",
     "output_type": "stream",
     "text": [
      "                                                                                "
     ]
    }
   ],
   "source": [
    "df_play_by_play_pts.show(10)"
   ]
  },
  {
   "cell_type": "code",
   "execution_count": 45,
   "metadata": {},
   "outputs": [
    {
     "name": "stdout",
     "output_type": "stream",
     "text": [
      "+-------+----------------+----------+---------+---------+\n",
      "|     id|       full_name|first_name|last_name|is_active|\n",
      "+-------+----------------+----------+---------+---------+\n",
      "|1630175|    Cole Anthony|      Cole|  Anthony|        1|\n",
      "|  76054|  Nate Archibald|      Nate|Archibald|        0|\n",
      "|1629633|  Jarrett Culver|   Jarrett|   Culver|        1|\n",
      "|   2223|Samuel Dalembert|    Samuel|Dalembert|        0|\n",
      "| 201942|   DeMar DeRozan|     DeMar|  DeRozan|        1|\n",
      "|  76599|      Larry Drew|     Larry|     Drew|        0|\n",
      "|1627770|      Kay Felder|       Kay|   Felder|        0|\n",
      "| 101155|      Ryan Gomes|      Ryan|    Gomes|        0|\n",
      "|  77112|  Winfred Jacobs|   Winfred|   Jacobs|        0|\n",
      "|  77129|      Les Jepsen|       Les|   Jepsen|        0|\n",
      "+-------+----------------+----------+---------+---------+\n",
      "only showing top 10 rows\n",
      "\n"
     ]
    }
   ],
   "source": [
    "df_player.show(10)"
   ]
  },
  {
   "cell_type": "code",
   "execution_count": 46,
   "metadata": {},
   "outputs": [
    {
     "name": "stdout",
     "output_type": "stream",
     "text": [
      "+----------+--------------------+--------------+------------+\n",
      "|        id|           full_name|         state|year_founded|\n",
      "+----------+--------------------+--------------+------------+\n",
      "|1610612741|       Chicago Bulls|      Illinois|        1966|\n",
      "|1610612752|     New York Knicks|      New York|        1946|\n",
      "|1610612751|       Brooklyn Nets|      New York|        1976|\n",
      "|1610612738|      Boston Celtics| Massachusetts|        1946|\n",
      "|1610612762|           Utah Jazz|          Utah|        1974|\n",
      "|1610612750|Minnesota Timberw...|     Minnesota|        1989|\n",
      "|1610612766|   Charlotte Hornets|North Carolina|        1988|\n",
      "|1610612748|          Miami Heat|       Florida|        1988|\n",
      "|1610612758|    Sacramento Kings|    California|        1948|\n",
      "|1610612757|Portland Trail Bl...|        Oregon|        1970|\n",
      "+----------+--------------------+--------------+------------+\n",
      "only showing top 10 rows\n",
      "\n"
     ]
    }
   ],
   "source": [
    "df_team.show(10)"
   ]
  },
  {
   "cell_type": "markdown",
   "metadata": {},
   "source": [
    "## GUARDADO DE LOS DF EN FORMATO PARQUET"
   ]
  },
  {
   "cell_type": "code",
   "execution_count": 47,
   "metadata": {},
   "outputs": [
    {
     "name": "stderr",
     "output_type": "stream",
     "text": [
      "                                                                                "
     ]
    }
   ],
   "source": [
    "df_game.write \\\n",
    "  .mode(\"overwrite\") \\\n",
    "  .parquet(\"/data_obligatorio_NBA/rfn/game_pqt\")\n",
    "\n",
    "df_game_summary.write \\\n",
    "  .mode(\"overwrite\") \\\n",
    "  .parquet(\"/data_obligatorio_NBA/rfn/game_sum_pqt\")\n",
    "\n",
    "df_common_player_info.write \\\n",
    "  .mode(\"overwrite\") \\\n",
    "  .parquet(\"/data_obligatorio_NBA/rfn/com_play_info_pqt\")\n",
    "\n",
    "df_play_by_play_pts.write \\\n",
    "  .mode(\"overwrite\") \\\n",
    "  .parquet(\"/data_obligatorio_NBA/rfn/play_pts_pqt\")\n",
    "\n",
    "df_player.write \\\n",
    "  .mode(\"overwrite\") \\\n",
    "  .parquet(\"/data_obligatorio_NBA/rfn/player_pqt\")\n",
    "\n",
    "df_team.write \\\n",
    "  .mode(\"overwrite\") \\\n",
    "  .parquet(\"/data_obligatorio_NBA/rfn/team_pqt\")"
   ]
  },
  {
   "cell_type": "markdown",
   "metadata": {},
   "source": [
    "## LECTURA DE LOS DF EN FORMATO PARQUET PARA COMPROBAR SU GUARDADO"
   ]
  },
  {
   "cell_type": "code",
   "execution_count": 48,
   "metadata": {},
   "outputs": [
    {
     "name": "stdout",
     "output_type": "stream",
     "text": [
      "+------------+--------+-------+--------+------------+-------+--------+\n",
      "|team_id_home| game_id|wl_home|pts_home|team_id_away|wl_away|pts_away|\n",
      "+------------+--------+-------+--------+------------+-------+--------+\n",
      "|  1610610026|24600156|      L|      74|  1610610032|      W|      78|\n",
      "|  1610612738|24600187|      L|      57|  1610610036|      W|      80|\n",
      "|  1610612747|24800213|      W|      89|  1610612744|      L|      71|\n",
      "|  1610612765|24800254|      W|      89|  1610612744|      L|      87|\n",
      "|  1610610029|24800326|      L|      80|  1610610034|      W|      81|\n",
      "|  1610610025|44800212|      L|      85|  1610612747|      W|     101|\n",
      "|  1610610036|25000004|      W|     100|  1610610030|      L|      84|\n",
      "|  1610612755|25000213|      L|      86|  1610612744|      W|      96|\n",
      "|  1610612738|25000260|      W|      85|  1610612737|      L|      70|\n",
      "|  1610610024|25000270|      L|      72|  1610612755|      W|      80|\n",
      "+------------+--------+-------+--------+------------+-------+--------+\n",
      "only showing top 10 rows\n",
      "\n"
     ]
    }
   ],
   "source": [
    "df_parquet = spark.read.parquet(\"/data_obligatorio_NBA/rfn/game_pqt\")\n",
    "df_parquet.show(10)"
   ]
  },
  {
   "cell_type": "code",
   "execution_count": 49,
   "metadata": {},
   "outputs": [
    {
     "name": "stdout",
     "output_type": "stream",
     "text": [
      "+--------+------------+---------------+------+\n",
      "| game_id|home_team_id|visitor_team_id|season|\n",
      "+--------+------------+---------------+------+\n",
      "|24600033|  1610610031|     1610610035|  1946|\n",
      "|24600302|  1610612738|     1610610026|  1946|\n",
      "|44600212|  1610612752|     1610612744|  1946|\n",
      "|24800250|  1610612747|     1610612758|  1948|\n",
      "|24800253|  1610610029|     1610612744|  1948|\n",
      "|24900180|  1610610024|     1610612747|  1949|\n",
      "|25000079|  1610612737|     1610610024|  1950|\n",
      "|25100011|  1610612758|     1610612747|  1951|\n",
      "|25100142|  1610612752|     1610612738|  1951|\n",
      "|25100151|  1610612744|     1610610024|  1951|\n",
      "+--------+------------+---------------+------+\n",
      "only showing top 10 rows\n",
      "\n"
     ]
    }
   ],
   "source": [
    "df_parquet = spark.read.parquet(\"/data_obligatorio_NBA/rfn/game_sum_pqt\")\n",
    "df_parquet.show(10)"
   ]
  },
  {
   "cell_type": "code",
   "execution_count": 50,
   "metadata": {},
   "outputs": [
    {
     "name": "stdout",
     "output_type": "stream",
     "text": [
      "+---------+----------+---------+-------------------+------------------+-------+------+--------------+------------+--------------------------------+----------+-------------+-----------+---------+-------+\n",
      "|person_id|first_name|last_name|          birthdate|            school|country|jersey|      position|rosterstatus|games_played_current_season_flag|   team_id|    team_name|  team_city|from_year|to_year|\n",
      "+---------+----------+---------+-------------------+------------------+-------+------+--------------+------------+--------------------------------+----------+-------------+-----------+---------+-------+\n",
      "|   201587|   Nicolas|    Batum|1988-12-14 00:00:00|           Le Mans| France|    33| Guard-Forward|      Active|                               N|1610612746|     Clippers|         LA|     2008|   2023|\n",
      "|  1628418|    Thomas|   Bryant|1997-07-31 00:00:00|           Indiana|    USA|    13|Center-Forward|      Active|                               N|1610612748|         Heat|      Miami|     2017|   2023|\n",
      "|    76590|      Leon|  Douglas|1954-08-26 00:00:00|           Alabama|    USA|    13|        Center|    Inactive|                               N|1610612765|      Pistons|    Detroit|     1976|   1982|\n",
      "|  1629164|   Brandon|  Goodwin|1995-10-02 00:00:00|Florida Gulf Coast|    USA|    00|         Guard|    Inactive|                               N|1610612739|    Cavaliers|  Cleveland|     2018|   2021|\n",
      "|     2580|    Travis|   Hansen|1978-04-15 00:00:00|     Brigham Young|    USA|     6| Guard-Forward|    Inactive|                               N|1610612737|        Hawks|    Atlanta|     2003|   2003|\n",
      "|  1626209|     Mario|  Hezonja|1995-02-25 00:00:00|      FC Barcelona|Croatia|    44| Forward-Guard|    Inactive|                               N|1610612753|        Magic|    Orlando|     2015|   2019|\n",
      "|    77194|     Robin|    Jones|1954-02-02 00:00:00|         St. Louis|    USA|    34|        Center|    Inactive|                               N|1610612757|Trail Blazers|   Portland|     1976|   1977|\n",
      "|    77292|      Dick| Knostman|1931-08-09 00:00:00|      Kansas State|    USA|    10|        Center|    Inactive|                               N|1610612755|    Nationals|   Syracuse|     1953|   1953|\n",
      "|    77486|    Marlon|    Maxey|1969-02-19 00:00:00|     Texas-El Paso|    USA|    25|       Forward|    Inactive|                               N|1610612750| Timberwolves|  Minnesota|     1992|   1993|\n",
      "|    77615|      Mike| Mitchell|1956-01-01 00:00:00|            Auburn|    USA|    34|       Forward|    Inactive|                               N|1610612759|        Spurs|San Antonio|     1978|   1987|\n",
      "+---------+----------+---------+-------------------+------------------+-------+------+--------------+------------+--------------------------------+----------+-------------+-----------+---------+-------+\n",
      "only showing top 10 rows\n",
      "\n"
     ]
    }
   ],
   "source": [
    "df_parquet = spark.read.parquet(\"/data_obligatorio_NBA/rfn/com_play_info_pqt\")\n",
    "df_parquet.show(10)"
   ]
  },
  {
   "cell_type": "code",
   "execution_count": 51,
   "metadata": {},
   "outputs": [
    {
     "name": "stdout",
     "output_type": "stream",
     "text": [
      "+--------+--------+------+------------+--------------------+--------------------+---------+-----------+----------+--------------------+---------------+\n",
      "| game_id|eventnum|period|wctimestring|     homedescription|  visitordescription|    score|scoremargin|player1_id|        player1_name|player1_team_id|\n",
      "+--------+--------+------+------------+--------------------+--------------------+---------+-----------+----------+--------------------+---------------+\n",
      "|20200222|       8|     1|   Undefined|World Peace Free ...|           Undefined|    0 - 1|          1|      1897|   Metta World Peace|     1610612754|\n",
      "|20000814|     156|     2|  -10:0-14 A|Manning  Layup (4...|           Undefined|  31 - 31|        TIE|       330|       Danny Manning|     1610612762|\n",
      "|20400395|     471|     4|    10:00 PM|Laettner Free Thr...|           Undefined|100 - 107|          7|       363|  Christian Laettner|     1610612748|\n",
      "|20200134|     420|     4|    10:00 PM|Garnett  Layup (2...|           Undefined|  85 - 79|         -6|       708|       Kevin Garnett|     1610612750|\n",
      "|20100021|     275|     3|    10:00 PM|           Undefined|McInnis 20' Jump ...|  53 - 49|         -4|       976|        Jeff McInnis|     1610612746|\n",
      "|20101188|      76|     1|    10:00 PM|           Undefined|Funderburke  Reve...|  12 - 20|          8|      1444|Lawrence Funderburke|     1610612758|\n",
      "|20500558|     221|     3|    10:00 PM|Duncan Free Throw...|           Undefined|  40 - 42|          2|      1495|          Tim Duncan|     1610612759|\n",
      "|20100856|     386|     4|    10:00 PM|           Undefined|Hudson Free Throw...|  75 - 87|         12|      1607|         Troy Hudson|     1610612753|\n",
      "|20501030|     187|     2|    10:00 PM|           Undefined|Miller 13' Jump S...|  31 - 42|         11|      1889|        Andre Miller|     1610612743|\n",
      "|20401199|     415|     4|    10:00 PM|Crawford 24' 3PT ...|           Undefined|101 - 104|          3|      2037|      Jamal Crawford|     1610612752|\n",
      "+--------+--------+------+------------+--------------------+--------------------+---------+-----------+----------+--------------------+---------------+\n",
      "only showing top 10 rows\n",
      "\n"
     ]
    }
   ],
   "source": [
    "df_parquet = spark.read.parquet(\"/data_obligatorio_NBA/rfn/play_pts_pqt\")\n",
    "df_parquet.show(10)"
   ]
  },
  {
   "cell_type": "code",
   "execution_count": 52,
   "metadata": {},
   "outputs": [
    {
     "name": "stdout",
     "output_type": "stream",
     "text": [
      "+-------+----------------+----------+---------+---------+\n",
      "|     id|       full_name|first_name|last_name|is_active|\n",
      "+-------+----------------+----------+---------+---------+\n",
      "|1630175|    Cole Anthony|      Cole|  Anthony|        1|\n",
      "|  76054|  Nate Archibald|      Nate|Archibald|        0|\n",
      "|1629633|  Jarrett Culver|   Jarrett|   Culver|        1|\n",
      "|   2223|Samuel Dalembert|    Samuel|Dalembert|        0|\n",
      "| 201942|   DeMar DeRozan|     DeMar|  DeRozan|        1|\n",
      "|  76599|      Larry Drew|     Larry|     Drew|        0|\n",
      "|1627770|      Kay Felder|       Kay|   Felder|        0|\n",
      "| 101155|      Ryan Gomes|      Ryan|    Gomes|        0|\n",
      "|  77112|  Winfred Jacobs|   Winfred|   Jacobs|        0|\n",
      "|  77129|      Les Jepsen|       Les|   Jepsen|        0|\n",
      "+-------+----------------+----------+---------+---------+\n",
      "only showing top 10 rows\n",
      "\n"
     ]
    }
   ],
   "source": [
    "df_parquet = spark.read.parquet(\"/data_obligatorio_NBA/rfn/player_pqt\")\n",
    "df_parquet.show(10)"
   ]
  },
  {
   "cell_type": "code",
   "execution_count": 53,
   "metadata": {},
   "outputs": [
    {
     "name": "stdout",
     "output_type": "stream",
     "text": [
      "+----------+--------------------+--------------+------------+\n",
      "|        id|           full_name|         state|year_founded|\n",
      "+----------+--------------------+--------------+------------+\n",
      "|1610612741|       Chicago Bulls|      Illinois|        1966|\n",
      "|1610612752|     New York Knicks|      New York|        1946|\n",
      "|1610612751|       Brooklyn Nets|      New York|        1976|\n",
      "|1610612738|      Boston Celtics| Massachusetts|        1946|\n",
      "|1610612762|           Utah Jazz|          Utah|        1974|\n",
      "|1610612750|Minnesota Timberw...|     Minnesota|        1989|\n",
      "|1610612766|   Charlotte Hornets|North Carolina|        1988|\n",
      "|1610612748|          Miami Heat|       Florida|        1988|\n",
      "|1610612758|    Sacramento Kings|    California|        1948|\n",
      "|1610612757|Portland Trail Bl...|        Oregon|        1970|\n",
      "+----------+--------------------+--------------+------------+\n",
      "only showing top 10 rows\n",
      "\n"
     ]
    }
   ],
   "source": [
    "df_parquet = spark.read.parquet(\"/data_obligatorio_NBA/rfn/team_pqt\")\n",
    "df_parquet.show(10)"
   ]
  },
  {
   "cell_type": "code",
   "execution_count": null,
   "metadata": {},
   "outputs": [],
   "source": []
  }
 ],
 "metadata": {
  "kernelspec": {
   "display_name": "Python 3 (ipykernel)",
   "language": "python",
   "name": "python3"
  },
  "language_info": {
   "codemirror_mode": {
    "name": "ipython",
    "version": 3
   },
   "file_extension": ".py",
   "mimetype": "text/x-python",
   "name": "python",
   "nbconvert_exporter": "python",
   "pygments_lexer": "ipython3",
   "version": "3.8.8"
  }
 },
 "nbformat": 4,
 "nbformat_minor": 4
}
