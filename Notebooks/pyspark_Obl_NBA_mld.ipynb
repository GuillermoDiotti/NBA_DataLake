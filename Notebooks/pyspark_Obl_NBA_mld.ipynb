{
 "cells": [
  {
   "cell_type": "code",
   "execution_count": 152,
   "id": "93d90c56-a6ae-4511-bdee-4c4ec0097185",
   "metadata": {},
   "outputs": [],
   "source": [
    "from pyspark.sql import SparkSession\n",
    "\n",
    "from pyspark.sql.functions import *\n",
    "from pyspark.sql.types import *\n",
    "\n",
    "spark = SparkSession \\\n",
    "    .builder \\\n",
    "    .appName(\"pyspark_Obl_NBA_modeled\") \\\n",
    "    .getOrCreate()"
   ]
  },
  {
   "cell_type": "markdown",
   "id": "07d44915-5970-417b-98f8-359b6be1d873",
   "metadata": {},
   "source": [
    "## CARGA DE LOS DATAFRAMES EN FORMATO PARQUET"
   ]
  },
  {
   "cell_type": "code",
   "execution_count": 153,
   "id": "1a87e4c3-a11c-4f36-bfff-bcc159c80e5c",
   "metadata": {},
   "outputs": [],
   "source": [
    "df_game_pqt = spark.read.parquet(\"/data_obligatorio_NBA/rfn/game_pqt\")\n",
    "df_game_sum_pqt = spark.read.parquet(\"/data_obligatorio_NBA/rfn/game_sum_pqt\")\n",
    "df_com_play_info_pqt = spark.read.parquet(\"/data_obligatorio_NBA/rfn/com_play_info_pqt\")\n",
    "df_play_pts_pqt = spark.read.parquet(\"/data_obligatorio_NBA/rfn/play_pts_pqt\")\n",
    "df_player_pqt = spark.read.parquet(\"/data_obligatorio_NBA/rfn/player_pqt\")\n",
    "df_team_pqt = spark.read.parquet(\"/data_obligatorio_NBA/rfn/team_pqt\")"
   ]
  },
  {
   "cell_type": "markdown",
   "id": "62c323dc-af5e-45a6-bc17-9e5b2991d502",
   "metadata": {
    "jp-MarkdownHeadingCollapsed": true
   },
   "source": [
    "## VISUALIZACION INICIAL DE LOS REGISTROS"
   ]
  },
  {
   "cell_type": "code",
   "execution_count": 154,
   "id": "13e482cf-1a34-4924-beaf-d4fca1004b7c",
   "metadata": {
    "scrolled": true
   },
   "outputs": [
    {
     "name": "stdout",
     "output_type": "stream",
     "text": [
      "+------------+--------+-------+--------+------------+-------+--------+\n",
      "|team_id_home| game_id|wl_home|pts_home|team_id_away|wl_away|pts_away|\n",
      "+------------+--------+-------+--------+------------+-------+--------+\n",
      "|  1610610026|24600156|      L|      74|  1610610032|      W|      78|\n",
      "|  1610612738|24600187|      L|      57|  1610610036|      W|      80|\n",
      "|  1610612747|24800213|      W|      89|  1610612744|      L|      71|\n",
      "|  1610612765|24800254|      W|      89|  1610612744|      L|      87|\n",
      "|  1610610029|24800326|      L|      80|  1610610034|      W|      81|\n",
      "|  1610610025|44800212|      L|      85|  1610612747|      W|     101|\n",
      "|  1610610036|25000004|      W|     100|  1610610030|      L|      84|\n",
      "|  1610612755|25000213|      L|      86|  1610612744|      W|      96|\n",
      "|  1610612738|25000260|      W|      85|  1610612737|      L|      70|\n",
      "|  1610610024|25000270|      L|      72|  1610612755|      W|      80|\n",
      "+------------+--------+-------+--------+------------+-------+--------+\n",
      "only showing top 10 rows\n",
      "\n"
     ]
    }
   ],
   "source": [
    "df_game_pqt.show(10)"
   ]
  },
  {
   "cell_type": "code",
   "execution_count": 155,
   "id": "4d6b0ed3-c5a2-4911-a253-191d80631d06",
   "metadata": {},
   "outputs": [
    {
     "name": "stdout",
     "output_type": "stream",
     "text": [
      "+--------+------------+---------------+------+\n",
      "| game_id|home_team_id|visitor_team_id|season|\n",
      "+--------+------------+---------------+------+\n",
      "|24600033|  1610610031|     1610610035|  1946|\n",
      "|24600302|  1610612738|     1610610026|  1946|\n",
      "|44600212|  1610612752|     1610612744|  1946|\n",
      "|24800250|  1610612747|     1610612758|  1948|\n",
      "|24800253|  1610610029|     1610612744|  1948|\n",
      "|24900180|  1610610024|     1610612747|  1949|\n",
      "|25000079|  1610612737|     1610610024|  1950|\n",
      "|25100011|  1610612758|     1610612747|  1951|\n",
      "|25100142|  1610612752|     1610612738|  1951|\n",
      "|25100151|  1610612744|     1610610024|  1951|\n",
      "+--------+------------+---------------+------+\n",
      "only showing top 10 rows\n",
      "\n"
     ]
    }
   ],
   "source": [
    "df_game_sum_pqt.show(10)"
   ]
  },
  {
   "cell_type": "code",
   "execution_count": 156,
   "id": "069d8ca1-c7c3-49b0-803e-249a8d76af94",
   "metadata": {},
   "outputs": [
    {
     "name": "stdout",
     "output_type": "stream",
     "text": [
      "+---------+----------+---------+-------------------+------------------+-------+------+--------------+------------+--------------------------------+----------+-------------+-----------+---------+-------+\n",
      "|person_id|first_name|last_name|          birthdate|            school|country|jersey|      position|rosterstatus|games_played_current_season_flag|   team_id|    team_name|  team_city|from_year|to_year|\n",
      "+---------+----------+---------+-------------------+------------------+-------+------+--------------+------------+--------------------------------+----------+-------------+-----------+---------+-------+\n",
      "|   201587|   Nicolas|    Batum|1988-12-14 00:00:00|           Le Mans| France|    33| Guard-Forward|      Active|                               N|1610612746|     Clippers|         LA|     2008|   2023|\n",
      "|  1628418|    Thomas|   Bryant|1997-07-31 00:00:00|           Indiana|    USA|    13|Center-Forward|      Active|                               N|1610612748|         Heat|      Miami|     2017|   2023|\n",
      "|    76590|      Leon|  Douglas|1954-08-26 00:00:00|           Alabama|    USA|    13|        Center|    Inactive|                               N|1610612765|      Pistons|    Detroit|     1976|   1982|\n",
      "|  1629164|   Brandon|  Goodwin|1995-10-02 00:00:00|Florida Gulf Coast|    USA|    00|         Guard|    Inactive|                               N|1610612739|    Cavaliers|  Cleveland|     2018|   2021|\n",
      "|     2580|    Travis|   Hansen|1978-04-15 00:00:00|     Brigham Young|    USA|     6| Guard-Forward|    Inactive|                               N|1610612737|        Hawks|    Atlanta|     2003|   2003|\n",
      "|  1626209|     Mario|  Hezonja|1995-02-25 00:00:00|      FC Barcelona|Croatia|    44| Forward-Guard|    Inactive|                               N|1610612753|        Magic|    Orlando|     2015|   2019|\n",
      "|    77194|     Robin|    Jones|1954-02-02 00:00:00|         St. Louis|    USA|    34|        Center|    Inactive|                               N|1610612757|Trail Blazers|   Portland|     1976|   1977|\n",
      "|    77292|      Dick| Knostman|1931-08-09 00:00:00|      Kansas State|    USA|    10|        Center|    Inactive|                               N|1610612755|    Nationals|   Syracuse|     1953|   1953|\n",
      "|    77486|    Marlon|    Maxey|1969-02-19 00:00:00|     Texas-El Paso|    USA|    25|       Forward|    Inactive|                               N|1610612750| Timberwolves|  Minnesota|     1992|   1993|\n",
      "|    77615|      Mike| Mitchell|1956-01-01 00:00:00|            Auburn|    USA|    34|       Forward|    Inactive|                               N|1610612759|        Spurs|San Antonio|     1978|   1987|\n",
      "+---------+----------+---------+-------------------+------------------+-------+------+--------------+------------+--------------------------------+----------+-------------+-----------+---------+-------+\n",
      "only showing top 10 rows\n",
      "\n"
     ]
    }
   ],
   "source": [
    "df_com_play_info_pqt.show(10)"
   ]
  },
  {
   "cell_type": "code",
   "execution_count": 157,
   "id": "bda21e38-384b-4516-b682-6b4f007aabfc",
   "metadata": {},
   "outputs": [
    {
     "name": "stdout",
     "output_type": "stream",
     "text": [
      "+--------+--------+------+------------+--------------------+--------------------+---------+-----------+----------+--------------------+---------------+\n",
      "| game_id|eventnum|period|wctimestring|     homedescription|  visitordescription|    score|scoremargin|player1_id|        player1_name|player1_team_id|\n",
      "+--------+--------+------+------------+--------------------+--------------------+---------+-----------+----------+--------------------+---------------+\n",
      "|20200222|       8|     1|   Undefined|World Peace Free ...|           Undefined|    0 - 1|          1|      1897|   Metta World Peace|     1610612754|\n",
      "|20000814|     156|     2|  -10:0-14 A|Manning  Layup (4...|           Undefined|  31 - 31|        TIE|       330|       Danny Manning|     1610612762|\n",
      "|20400395|     471|     4|    10:00 PM|Laettner Free Thr...|           Undefined|100 - 107|          7|       363|  Christian Laettner|     1610612748|\n",
      "|20200134|     420|     4|    10:00 PM|Garnett  Layup (2...|           Undefined|  85 - 79|         -6|       708|       Kevin Garnett|     1610612750|\n",
      "|20100021|     275|     3|    10:00 PM|           Undefined|McInnis 20' Jump ...|  53 - 49|         -4|       976|        Jeff McInnis|     1610612746|\n",
      "|20101188|      76|     1|    10:00 PM|           Undefined|Funderburke  Reve...|  12 - 20|          8|      1444|Lawrence Funderburke|     1610612758|\n",
      "|20500558|     221|     3|    10:00 PM|Duncan Free Throw...|           Undefined|  40 - 42|          2|      1495|          Tim Duncan|     1610612759|\n",
      "|20100856|     386|     4|    10:00 PM|           Undefined|Hudson Free Throw...|  75 - 87|         12|      1607|         Troy Hudson|     1610612753|\n",
      "|20501030|     187|     2|    10:00 PM|           Undefined|Miller 13' Jump S...|  31 - 42|         11|      1889|        Andre Miller|     1610612743|\n",
      "|20401199|     415|     4|    10:00 PM|Crawford 24' 3PT ...|           Undefined|101 - 104|          3|      2037|      Jamal Crawford|     1610612752|\n",
      "+--------+--------+------+------------+--------------------+--------------------+---------+-----------+----------+--------------------+---------------+\n",
      "only showing top 10 rows\n",
      "\n"
     ]
    }
   ],
   "source": [
    "df_play_pts_pqt.show(10)"
   ]
  },
  {
   "cell_type": "code",
   "execution_count": 158,
   "id": "d94529f1-6714-477b-b6b4-9874ff059174",
   "metadata": {},
   "outputs": [
    {
     "name": "stdout",
     "output_type": "stream",
     "text": [
      "+-------+----------------+----------+---------+---------+\n",
      "|     id|       full_name|first_name|last_name|is_active|\n",
      "+-------+----------------+----------+---------+---------+\n",
      "|1630175|    Cole Anthony|      Cole|  Anthony|        1|\n",
      "|  76054|  Nate Archibald|      Nate|Archibald|        0|\n",
      "|1629633|  Jarrett Culver|   Jarrett|   Culver|        1|\n",
      "|   2223|Samuel Dalembert|    Samuel|Dalembert|        0|\n",
      "| 201942|   DeMar DeRozan|     DeMar|  DeRozan|        1|\n",
      "|  76599|      Larry Drew|     Larry|     Drew|        0|\n",
      "|1627770|      Kay Felder|       Kay|   Felder|        0|\n",
      "| 101155|      Ryan Gomes|      Ryan|    Gomes|        0|\n",
      "|  77112|  Winfred Jacobs|   Winfred|   Jacobs|        0|\n",
      "|  77129|      Les Jepsen|       Les|   Jepsen|        0|\n",
      "+-------+----------------+----------+---------+---------+\n",
      "only showing top 10 rows\n",
      "\n"
     ]
    }
   ],
   "source": [
    "df_player_pqt.show(10)"
   ]
  },
  {
   "cell_type": "code",
   "execution_count": 159,
   "id": "7e58212f-cdae-488d-81b7-fd9717860cb4",
   "metadata": {},
   "outputs": [
    {
     "name": "stdout",
     "output_type": "stream",
     "text": [
      "+----------+--------------------+--------------+------------+\n",
      "|        id|           full_name|         state|year_founded|\n",
      "+----------+--------------------+--------------+------------+\n",
      "|1610612741|       Chicago Bulls|      Illinois|        1966|\n",
      "|1610612752|     New York Knicks|      New York|        1946|\n",
      "|1610612751|       Brooklyn Nets|      New York|        1976|\n",
      "|1610612738|      Boston Celtics| Massachusetts|        1946|\n",
      "|1610612762|           Utah Jazz|          Utah|        1974|\n",
      "|1610612750|Minnesota Timberw...|     Minnesota|        1989|\n",
      "|1610612766|   Charlotte Hornets|North Carolina|        1988|\n",
      "|1610612748|          Miami Heat|       Florida|        1988|\n",
      "|1610612758|    Sacramento Kings|    California|        1948|\n",
      "|1610612757|Portland Trail Bl...|        Oregon|        1970|\n",
      "+----------+--------------------+--------------+------------+\n",
      "only showing top 10 rows\n",
      "\n"
     ]
    }
   ],
   "source": [
    "df_team_pqt.show(10)"
   ]
  },
  {
   "cell_type": "markdown",
   "id": "ce74dfaf-3ef4-4931-93c9-b7e67004900a",
   "metadata": {},
   "source": [
    "## MANIPULACION DE LOS DATOS"
   ]
  },
  {
   "cell_type": "code",
   "execution_count": 160,
   "id": "f633ee3a-eb62-4e6e-b834-262017c01792",
   "metadata": {},
   "outputs": [],
   "source": [
    "split_col = split(col(\"jersey\"), \"-\")\n",
    "\n",
    "df_com_play_info_pqt = df_com_play_info_pqt.withColumn(\n",
    "    \"jersey1\",\n",
    "    when(split_col.getItem(0).isNotNull(), split_col.getItem(0).cast(\"string\"))\n",
    ")\n",
    "\n",
    "df_com_play_info_pqt = df_com_play_info_pqt.withColumn(\n",
    "    \"jersey2\",\n",
    "    when(split_col.getItem(1).isNotNull(), split_col.getItem(1).cast(\"string\"))\n",
    "    .otherwise(\"Undefined\")\n",
    ")"
   ]
  },
  {
   "cell_type": "code",
   "execution_count": 161,
   "id": "7e87727d-f4a2-4389-832d-e43af80b2780",
   "metadata": {
    "scrolled": true
   },
   "outputs": [
    {
     "name": "stdout",
     "output_type": "stream",
     "text": [
      "+---------+---------+---------+---------+\n",
      "|person_id|   jersey|  jersey1|  jersey2|\n",
      "+---------+---------+---------+---------+\n",
      "|   201587|       33|       33|Undefined|\n",
      "|  1628418|       13|       13|Undefined|\n",
      "|    76590|       13|       13|Undefined|\n",
      "|  1629164|       00|       00|Undefined|\n",
      "|     2580|        6|        6|Undefined|\n",
      "|  1626209|       44|       44|Undefined|\n",
      "|    77194|       34|       34|Undefined|\n",
      "|    77292|       10|       10|Undefined|\n",
      "|    77486|       25|       25|Undefined|\n",
      "|    77615|       34|       34|Undefined|\n",
      "|    77913|       13|       13|Undefined|\n",
      "|  1630559|       15|       15|Undefined|\n",
      "|      375|Undefined|Undefined|Undefined|\n",
      "|     1489|       22|       22|Undefined|\n",
      "|    78382|Undefined|Undefined|Undefined|\n",
      "|    78528|       11|       11|Undefined|\n",
      "|    78605|       20|       20|Undefined|\n",
      "|    78633|       20|       20|Undefined|\n",
      "|   201165|       21|       21|Undefined|\n",
      "|  1630547|        2|        2|Undefined|\n",
      "|    76468|       24|       24|Undefined|\n",
      "|    76697|       17|       17|Undefined|\n",
      "|    77212|        6|        6|Undefined|\n",
      "|   203508|       10|       10|Undefined|\n",
      "|    77503|Undefined|Undefined|Undefined|\n",
      "|  1630787|Undefined|Undefined|Undefined|\n",
      "|    77639|       15|       15|Undefined|\n",
      "|    77793|       16|       16|Undefined|\n",
      "|    77890|       23|       23|Undefined|\n",
      "|  1631101|       17|       17|Undefined|\n",
      "|     2561|        3|        3|Undefined|\n",
      "|    78526|       12|       12|Undefined|\n",
      "|     2254|       33|       33|Undefined|\n",
      "|  1628386|       31|       31|Undefined|\n",
      "|       21|       50|       50|Undefined|\n",
      "|    76295|       12|       12|Undefined|\n",
      "|   201569|       10|       10|Undefined|\n",
      "|    77040|       14|       14|Undefined|\n",
      "|  1629672|        0|        0|Undefined|\n",
      "|   202353|       21|       21|Undefined|\n",
      "|    77921|       20|       20|Undefined|\n",
      "|      147|        8|        8|Undefined|\n",
      "|      179|       23|       23|Undefined|\n",
      "|      952|       24|       24|Undefined|\n",
      "|    78456|       15|       15|Undefined|\n",
      "|     1755|Undefined|Undefined|Undefined|\n",
      "|      112|Undefined|Undefined|Undefined|\n",
      "|   101219|       16|       16|Undefined|\n",
      "|      446|Undefined|Undefined|Undefined|\n",
      "|   203962|       34|       34|Undefined|\n",
      "|  1630222|       40|       40|Undefined|\n",
      "|  1631117|       24|       24|Undefined|\n",
      "|     1732|       13|       13|Undefined|\n",
      "|  1628399|       20|       20|Undefined|\n",
      "|   202703|       41|       41|Undefined|\n",
      "|    77634|     4-14|        4|       14|\n",
      "|      132|       50|       50|Undefined|\n",
      "|     1680|Undefined|Undefined|Undefined|\n",
      "|   202385|Undefined|Undefined|Undefined|\n",
      "|      720|Undefined|Undefined|Undefined|\n",
      "|    78012|        4|        4|Undefined|\n",
      "|    78431|       15|       15|Undefined|\n",
      "|      767|       33|       33|Undefined|\n",
      "|   201142|       35|       35|Undefined|\n",
      "|     2601|Undefined|Undefined|Undefined|\n",
      "|   201572|       11|       11|Undefined|\n",
      "|    77411|       22|       22|Undefined|\n",
      "|  1630253|       30|       30|Undefined|\n",
      "|      168|       34|       34|Undefined|\n",
      "|      371|Undefined|Undefined|Undefined|\n",
      "|      735|       50|       50|Undefined|\n",
      "|      393|Undefined|Undefined|Undefined|\n",
      "|    78296|       14|       14|Undefined|\n",
      "|    78368|Undefined|Undefined|Undefined|\n",
      "|    78402|       11|       11|Undefined|\n",
      "|    78426|       10|       10|Undefined|\n",
      "|    78516|        6|        6|Undefined|\n",
      "|   201146|        9|        9|Undefined|\n",
      "|  1628384|        3|        3|Undefined|\n",
      "|  1630217|       22|       22|Undefined|\n",
      "+---------+---------+---------+---------+\n",
      "only showing top 80 rows\n",
      "\n"
     ]
    }
   ],
   "source": [
    "df_com_play_info_pqt.select(\"person_id\", \"jersey\", \"jersey1\", \"jersey2\").show(80)"
   ]
  },
  {
   "cell_type": "code",
   "execution_count": 162,
   "id": "132488e2-7037-4d0e-ad80-c8011f6de309",
   "metadata": {},
   "outputs": [],
   "source": [
    "df_game_pqt = df_game_pqt.join(\n",
    "    df_game_sum_pqt.select(\"game_id\", \"season\"),\n",
    "    on=\"game_id\",\n",
    "    how=\"left\"\n",
    ")"
   ]
  },
  {
   "cell_type": "code",
   "execution_count": 163,
   "id": "ef156a3f-1ec0-492a-a0db-1eb5737a71e9",
   "metadata": {},
   "outputs": [],
   "source": [
    "df_game_pqt = df_game_pqt.fillna({\"season\": -1})"
   ]
  },
  {
   "cell_type": "code",
   "execution_count": 164,
   "id": "7f443901-33c4-4d5c-8412-696ff273dfe8",
   "metadata": {},
   "outputs": [
    {
     "data": {
      "text/plain": [
       "0"
      ]
     },
     "execution_count": 164,
     "metadata": {},
     "output_type": "execute_result"
    }
   ],
   "source": [
    "df_game_pqt.select(\"season\").filter(\n",
    "    df_game_pqt[\"season\"].isNull()).count()"
   ]
  },
  {
   "cell_type": "code",
   "execution_count": 165,
   "id": "3b97fed0-665f-4c30-9753-f26bfaf170ee",
   "metadata": {},
   "outputs": [
    {
     "name": "stdout",
     "output_type": "stream",
     "text": [
      "+----------+-------------+---------+\n",
      "|score_home|score_visitor|    score|\n",
      "+----------+-------------+---------+\n",
      "|         1|            0|    0 - 1|\n",
      "|        31|           31|  31 - 31|\n",
      "|       107|          100|100 - 107|\n",
      "|        79|           85|  85 - 79|\n",
      "|        49|           53|  53 - 49|\n",
      "|        20|           12|  12 - 20|\n",
      "|        42|           40|  40 - 42|\n",
      "|        87|           75|  75 - 87|\n",
      "|        42|           31|  31 - 42|\n",
      "|       104|          101|101 - 104|\n",
      "+----------+-------------+---------+\n",
      "only showing top 10 rows\n",
      "\n"
     ]
    }
   ],
   "source": [
    "df_play_pts_pqt = df_play_pts_pqt.withColumn(\"score_visitor\", split(col(\"score\"), \" - \")[0].cast(\"int\")) \\\n",
    "       .withColumn(\"score_home\", split(col(\"score\"), \" - \")[1].cast(\"int\"))\n",
    "\n",
    "df_play_pts_pqt.select(\"score_home\", \"score_visitor\", \"score\").show(10)"
   ]
  },
  {
   "cell_type": "code",
   "execution_count": 166,
   "id": "b1d35c8c-c1f6-4400-b95d-67faf46fd3b7",
   "metadata": {},
   "outputs": [],
   "source": [
    "df_play_pts_pqt = df_play_pts_pqt.withColumn(\n",
    "    \"description\",\n",
    "    when(col(\"homedescription\") != \"Undefined\", col(\"homedescription\"))\n",
    "    .when(col(\"visitordescription\") != \"Undefined\", col(\"visitordescription\"))\n",
    ")"
   ]
  },
  {
   "cell_type": "code",
   "execution_count": 167,
   "id": "e063d15c-4d65-403d-a6e7-743f8d9179a9",
   "metadata": {},
   "outputs": [],
   "source": [
    "df_play_pts_pqt = df_play_pts_pqt.withColumn(\"team_type\",\n",
    "    when(col(\"homedescription\") != \"Undefined\", \"home\")\n",
    "    .when(col(\"visitordescription\") != \"Undefined\", \"visitor\")\n",
    ")"
   ]
  },
  {
   "cell_type": "code",
   "execution_count": 168,
   "id": "07330ce4-1505-439f-a024-838215113b3a",
   "metadata": {},
   "outputs": [],
   "source": [
    "df_play_pts_pqt = df_play_pts_pqt.withColumn(\"description_lower\", lower(col(\"description\")))\n",
    "\n",
    "df_play_pts_pqt = df_play_pts_pqt.withColumn(\"play_pts\", \n",
    "    when(col(\"description_lower\").contains(\"3pt\"), 3)\n",
    "    .when(col(\"description_lower\").rlike(\"1 of 2\"), 1)\n",
    "    .when(col(\"description_lower\").rlike(\"2 of 2\"), 1)\n",
    "    .when(col(\"description_lower\").rlike(\"free throw\"), 1)\n",
    "    .when(col(\"description_lower\").rlike(\"dunk\"), 2)\n",
    "    .when(col(\"description_lower\").rlike(\"layup\"), 2)\n",
    "    .when(col(\"description_lower\").rlike(\"fadeaway\"), 2)\n",
    "    .when(col(\"description_lower\").rlike(\"hook\"), 2)\n",
    "    .when(col(\"description_lower\").rlike(\"jump(\\\\s+\\\\w+)*\\\\s+shot\"), 2)\n",
    "    .when(col(\"description_lower\").rlike(\"finger roll\"), 2)\n",
    "    .when(col(\"description_lower\").rlike(\"tip shot\"), 2)\n",
    "    .when(col(\"description_lower\").rlike(\"bank\"), 2)\n",
    "    .when(col(\"description_lower\").rlike(\"no shot\"), 2)\n",
    "    .when(col(\"description_lower\").rlike(\"shot\"), 2)\n",
    "    .otherwise(1)\n",
    ")\n"
   ]
  },
  {
   "cell_type": "code",
   "execution_count": 169,
   "id": "e9d153d5-0d46-4faf-82dc-78a4ba088c89",
   "metadata": {},
   "outputs": [
    {
     "data": {
      "text/plain": [
       "0"
      ]
     },
     "execution_count": 169,
     "metadata": {},
     "output_type": "execute_result"
    }
   ],
   "source": [
    "df_play_pts_pqt.select(\"description\", \"play_pts\").filter(\n",
    "    df_play_pts_pqt[\"play_pts\"].isNull()).count()"
   ]
  },
  {
   "cell_type": "code",
   "execution_count": 170,
   "id": "19b7a00a-0dbc-44ae-93ce-cd569778c452",
   "metadata": {},
   "outputs": [],
   "source": [
    "df_game_pqt = df_game_pqt.withColumn(\"pts_away\",\n",
    "    when(col(\"game_id\") == 11300032, 89)\n",
    "    .when(col(\"game_id\") == 11300033, 80)\n",
    "    .when(col(\"game_id\") == 11300034, 98)\n",
    "    .when(col(\"game_id\") == 12000009, 107)\n",
    "    .when(col(\"game_id\") == 20300778, 101)\n",
    "    .when(col(\"game_id\") == 29600070, 86)\n",
    "    .when(col(\"game_id\") == 29600332, 81)\n",
    "    .when(col(\"game_id\") == 29600370, 76)\n",
    "    .otherwise(col(\"pts_away\"))\n",
    ")\n",
    "\n",
    "df_game_pqt = df_game_pqt.withColumn(\"pts_home\",\n",
    "    when(col(\"game_id\") == 11300032, 90)\n",
    "    .when(col(\"game_id\") == 11300033, 86)\n",
    "    .when(col(\"game_id\") == 11300034, 96)\n",
    "    .when(col(\"game_id\") == 12000009, 102)\n",
    "    .when(col(\"game_id\") == 20300778, 120)\n",
    "    .when(col(\"game_id\") == 29600070, 101)\n",
    "    .when(col(\"game_id\") == 29600332, 123)\n",
    "    .when(col(\"game_id\") == 29600370, 91)\n",
    "    .otherwise(col(\"pts_home\"))\n",
    ")"
   ]
  },
  {
   "cell_type": "code",
   "execution_count": 171,
   "id": "ee484edf-7395-419d-9b82-cdd4284bf0e4",
   "metadata": {},
   "outputs": [
    {
     "name": "stderr",
     "output_type": "stream",
     "text": [
      "                                                                                "
     ]
    },
    {
     "name": "stdout",
     "output_type": "stream",
     "text": [
      "+-------+--------+-----------+--------+--------+\n",
      "|game_id|home_pts|visitor_pts|pts_home|pts_away|\n",
      "+-------+--------+-----------+--------+--------+\n",
      "+-------+--------+-----------+--------+--------+\n",
      "\n"
     ]
    },
    {
     "name": "stderr",
     "output_type": "stream",
     "text": [
      "                                                                                "
     ]
    },
    {
     "data": {
      "text/plain": [
       "0"
      ]
     },
     "execution_count": 171,
     "metadata": {},
     "output_type": "execute_result"
    }
   ],
   "source": [
    "home_pts_df = df_play_pts_pqt.filter(col(\"team_type\") == \"home\") \\\n",
    "    .groupBy(\"game_id\") \\\n",
    "    .agg(sum(\"play_pts\").alias(\"home_pts\"))\n",
    "\n",
    "visitor_pts_df = df_play_pts_pqt.filter(col(\"team_type\") == \"visitor\") \\\n",
    "    .groupBy(\"game_id\") \\\n",
    "    .agg(sum(\"play_pts\").alias(\"visitor_pts\"))\n",
    "\n",
    "df_result = home_pts_df.join(visitor_pts_df, on=\"game_id\", how=\"outer\")\n",
    "\n",
    "df_result = df_game_pqt \\\n",
    "    .join(home_pts_df, on=\"game_id\", how=\"left\") \\\n",
    "    .join(visitor_pts_df, on=\"game_id\", how=\"left\") \\\n",
    "    .filter( (col(\"home_pts\") != col(\"pts_home\")) | (col(\"visitor_pts\") != col(\"pts_away\")) ) \\\n",
    "    .select(\"game_id\", \"home_pts\", \"visitor_pts\", \"pts_home\", \"pts_away\")\n",
    "\n",
    "\n",
    "df_result.show(truncate=False)\n",
    "df_result.count()"
   ]
  },
  {
   "cell_type": "code",
   "execution_count": 172,
   "id": "79440515-f1b1-4115-be3f-4d2500f50edf",
   "metadata": {},
   "outputs": [],
   "source": [
    "df_player_pqt = df_player_pqt.withColumn(\"status\",\n",
    "    when(col(\"is_active\") == 1, \"Active\")\n",
    "    .when(col(\"is_active\") == 0, \"Inactive\")\n",
    ")"
   ]
  },
  {
   "cell_type": "markdown",
   "id": "fd1c50ab-a2b6-46d5-9276-f3e7ecdd5584",
   "metadata": {},
   "source": [
    "## ELIMINACION Y RENOMBRE DE COLUMNAS"
   ]
  },
  {
   "cell_type": "code",
   "execution_count": 174,
   "id": "54bd4c6f-6224-485c-b9d2-97e434a9646e",
   "metadata": {},
   "outputs": [],
   "source": [
    "df_com_play_info_pqt = df_com_play_info_pqt.withColumnRenamed(\"id\", \"player_id\")\n",
    "df_com_play_info_pqt = df_com_play_info_pqt.drop(\"first_name\")\n",
    "df_com_play_info_pqt = df_com_play_info_pqt.drop(\"last_name\")\n",
    "df_com_play_info_pqt = df_com_play_info_pqt.drop(\"birthdate\")\n",
    "df_com_play_info_pqt = df_com_play_info_pqt.drop(\"country\")\n",
    "df_com_play_info_pqt = df_com_play_info_pqt.drop(\"rosterstatus\")\n",
    "df_com_play_info_pqt = df_com_play_info_pqt.drop(\"games_played_current_season_flag\")\n",
    "df_com_play_info_pqt = df_com_play_info_pqt.drop(\"team_name\")\n",
    "df_com_play_info_pqt = df_com_play_info_pqt.drop(\"team_city\")\n",
    "df_com_play_info_pqt = df_com_play_info_pqt.drop(\"jersey\")\n",
    "df_com_play_info_pqt = df_com_play_info_pqt.drop(\"from_year\")\n",
    "df_com_play_info_pqt = df_com_play_info_pqt.drop(\"to_year\")"
   ]
  },
  {
   "cell_type": "code",
   "execution_count": 173,
   "id": "9909fa83-bf1e-4dd7-afc8-03c2272992df",
   "metadata": {},
   "outputs": [],
   "source": [
    "df_game_pqt = df_game_pqt.drop(\"wl_home\")\n",
    "df_game_pqt = df_game_pqt.drop(\"wl_away\")"
   ]
  },
  {
   "cell_type": "code",
   "execution_count": 175,
   "id": "d4725c8b-7d43-4d5e-8ff2-538c68da1e6a",
   "metadata": {},
   "outputs": [],
   "source": [
    "df_play_pts_pqt = df_play_pts_pqt.drop(\"period\")\n",
    "df_play_pts_pqt = df_play_pts_pqt.drop(\"wctimestring\")\n",
    "df_play_pts_pqt = df_play_pts_pqt.drop(\"homedescription\")\n",
    "df_play_pts_pqt = df_play_pts_pqt.drop(\"visitordescription\")\n",
    "df_play_pts_pqt = df_play_pts_pqt.drop(\"score\")\n",
    "df_play_pts_pqt = df_play_pts_pqt.drop(\"scoremargin\")\n",
    "df_play_pts_pqt = df_play_pts_pqt.drop(\"player1_name\")\n",
    "df_play_pts_pqt = df_play_pts_pqt.drop(\"description\")\n",
    "df_play_pts_pqt = df_play_pts_pqt.drop(\"description_lower\")\n",
    "df_play_pts_pqt = df_play_pts_pqt.withColumnRenamed(\"player1_id\", \"player_id\")\n",
    "df_play_pts_pqt = df_play_pts_pqt.withColumnRenamed(\"player1_team_id\", \"team_id\")"
   ]
  },
  {
   "cell_type": "code",
   "execution_count": 176,
   "id": "19845d13-30ce-4e35-88ae-abf7a93a77d2",
   "metadata": {},
   "outputs": [],
   "source": [
    "df_player_pqt = df_player_pqt.withColumnRenamed(\"id\", \"player_id\")\n",
    "df_player_pqt = df_player_pqt.drop(\"first_name\")\n",
    "df_player_pqt = df_player_pqt.drop(\"last_name\")\n",
    "df_player_pqt = df_player_pqt.drop(\"is_active\")"
   ]
  },
  {
   "cell_type": "code",
   "execution_count": 177,
   "id": "8616716b-44a8-49b2-9e87-2a289a64bb94",
   "metadata": {},
   "outputs": [],
   "source": [
    "df_team_pqt = df_team_pqt.withColumnRenamed(\"id\", \"team_id\")"
   ]
  },
  {
   "cell_type": "markdown",
   "id": "510742b8-118f-4198-8e88-139700b36041",
   "metadata": {},
   "source": [
    "## VISUALIZACION FINAL"
   ]
  },
  {
   "cell_type": "code",
   "execution_count": 178,
   "id": "f17dbd9e-801b-4914-8ec9-1f1cdd162146",
   "metadata": {},
   "outputs": [
    {
     "name": "stdout",
     "output_type": "stream",
     "text": [
      "+--------+------------+--------+------------+--------+------+\n",
      "| game_id|team_id_home|pts_home|team_id_away|pts_away|season|\n",
      "+--------+------------+--------+------------+--------+------+\n",
      "|24600156|  1610610026|      74|  1610610032|      78|  1946|\n",
      "|24600187|  1610612738|      57|  1610610036|      80|    -1|\n",
      "|24800213|  1610612747|      89|  1610612744|      71|  1948|\n",
      "|24800254|  1610612765|      89|  1610612744|      87|  1948|\n",
      "|24800326|  1610610029|      80|  1610610034|      81|  1948|\n",
      "|44800212|  1610610025|      85|  1610612747|     101|  1948|\n",
      "|25000004|  1610610036|     100|  1610610030|      84|  1950|\n",
      "|25000213|  1610612755|      86|  1610612744|      96|  1950|\n",
      "|25000260|  1610612738|      85|  1610612737|      70|  1950|\n",
      "|25000270|  1610610024|      72|  1610612755|      80|  1950|\n",
      "+--------+------------+--------+------------+--------+------+\n",
      "only showing top 10 rows\n",
      "\n"
     ]
    }
   ],
   "source": [
    "df_game_pqt.show(10)"
   ]
  },
  {
   "cell_type": "code",
   "execution_count": 179,
   "id": "7dcb16de-75c4-4834-a30d-06ea0941d5ed",
   "metadata": {},
   "outputs": [
    {
     "name": "stdout",
     "output_type": "stream",
     "text": [
      "+--------+------------+---------------+------+\n",
      "| game_id|home_team_id|visitor_team_id|season|\n",
      "+--------+------------+---------------+------+\n",
      "|24600033|  1610610031|     1610610035|  1946|\n",
      "|24600302|  1610612738|     1610610026|  1946|\n",
      "|44600212|  1610612752|     1610612744|  1946|\n",
      "|24800250|  1610612747|     1610612758|  1948|\n",
      "|24800253|  1610610029|     1610612744|  1948|\n",
      "|24900180|  1610610024|     1610612747|  1949|\n",
      "|25000079|  1610612737|     1610610024|  1950|\n",
      "|25100011|  1610612758|     1610612747|  1951|\n",
      "|25100142|  1610612752|     1610612738|  1951|\n",
      "|25100151|  1610612744|     1610610024|  1951|\n",
      "+--------+------------+---------------+------+\n",
      "only showing top 10 rows\n",
      "\n"
     ]
    }
   ],
   "source": [
    "df_game_sum_pqt.show(10)"
   ]
  },
  {
   "cell_type": "code",
   "execution_count": 180,
   "id": "ae586183-8a3a-4168-bad0-6e1d816f6a5f",
   "metadata": {},
   "outputs": [
    {
     "name": "stdout",
     "output_type": "stream",
     "text": [
      "+--------+--------+---------+----------+-------------+----------+---------+--------+\n",
      "| game_id|eventnum|player_id|   team_id|score_visitor|score_home|team_type|play_pts|\n",
      "+--------+--------+---------+----------+-------------+----------+---------+--------+\n",
      "|20200222|       8|     1897|1610612754|            0|         1|     home|       1|\n",
      "|20000814|     156|      330|1610612762|           31|        31|     home|       2|\n",
      "|20400395|     471|      363|1610612748|          100|       107|     home|       1|\n",
      "|20200134|     420|      708|1610612750|           85|        79|     home|       2|\n",
      "|20100021|     275|      976|1610612746|           53|        49|  visitor|       2|\n",
      "|20101188|      76|     1444|1610612758|           12|        20|  visitor|       2|\n",
      "|20500558|     221|     1495|1610612759|           40|        42|     home|       1|\n",
      "|20100856|     386|     1607|1610612753|           75|        87|  visitor|       1|\n",
      "|20501030|     187|     1889|1610612743|           31|        42|  visitor|       2|\n",
      "|20401199|     415|     2037|1610612752|          101|       104|     home|       3|\n",
      "+--------+--------+---------+----------+-------------+----------+---------+--------+\n",
      "only showing top 10 rows\n",
      "\n"
     ]
    }
   ],
   "source": [
    "df_play_pts_pqt.show(10)"
   ]
  },
  {
   "cell_type": "code",
   "execution_count": 181,
   "id": "a06e2010-aa89-4d3d-b7c0-d0351d576a61",
   "metadata": {},
   "outputs": [
    {
     "name": "stdout",
     "output_type": "stream",
     "text": [
      "+---------+----------------+--------+\n",
      "|player_id|       full_name|  status|\n",
      "+---------+----------------+--------+\n",
      "|  1630175|    Cole Anthony|  Active|\n",
      "|    76054|  Nate Archibald|Inactive|\n",
      "|  1629633|  Jarrett Culver|  Active|\n",
      "|     2223|Samuel Dalembert|Inactive|\n",
      "|   201942|   DeMar DeRozan|  Active|\n",
      "|    76599|      Larry Drew|Inactive|\n",
      "|  1627770|      Kay Felder|Inactive|\n",
      "|   101155|      Ryan Gomes|Inactive|\n",
      "|    77112|  Winfred Jacobs|Inactive|\n",
      "|    77129|      Les Jepsen|Inactive|\n",
      "+---------+----------------+--------+\n",
      "only showing top 10 rows\n",
      "\n"
     ]
    }
   ],
   "source": [
    "df_player_pqt.show(10)"
   ]
  },
  {
   "cell_type": "code",
   "execution_count": 182,
   "id": "5d1aa932-8891-4603-a258-5544441a343d",
   "metadata": {},
   "outputs": [
    {
     "name": "stdout",
     "output_type": "stream",
     "text": [
      "+---------+----------------+--------+\n",
      "|player_id|       full_name|  status|\n",
      "+---------+----------------+--------+\n",
      "|  1630175|    Cole Anthony|  Active|\n",
      "|    76054|  Nate Archibald|Inactive|\n",
      "|  1629633|  Jarrett Culver|  Active|\n",
      "|     2223|Samuel Dalembert|Inactive|\n",
      "|   201942|   DeMar DeRozan|  Active|\n",
      "|    76599|      Larry Drew|Inactive|\n",
      "|  1627770|      Kay Felder|Inactive|\n",
      "|   101155|      Ryan Gomes|Inactive|\n",
      "|    77112|  Winfred Jacobs|Inactive|\n",
      "|    77129|      Les Jepsen|Inactive|\n",
      "+---------+----------------+--------+\n",
      "only showing top 10 rows\n",
      "\n"
     ]
    }
   ],
   "source": [
    "df_player_pqt.show(10)"
   ]
  },
  {
   "cell_type": "code",
   "execution_count": 183,
   "id": "e10d2723-d490-485f-8c38-24e0edf49c48",
   "metadata": {},
   "outputs": [
    {
     "name": "stdout",
     "output_type": "stream",
     "text": [
      "+----------+--------------------+--------------+------------+\n",
      "|   team_id|           full_name|         state|year_founded|\n",
      "+----------+--------------------+--------------+------------+\n",
      "|1610612741|       Chicago Bulls|      Illinois|        1966|\n",
      "|1610612752|     New York Knicks|      New York|        1946|\n",
      "|1610612751|       Brooklyn Nets|      New York|        1976|\n",
      "|1610612738|      Boston Celtics| Massachusetts|        1946|\n",
      "|1610612762|           Utah Jazz|          Utah|        1974|\n",
      "|1610612750|Minnesota Timberw...|     Minnesota|        1989|\n",
      "|1610612766|   Charlotte Hornets|North Carolina|        1988|\n",
      "|1610612748|          Miami Heat|       Florida|        1988|\n",
      "|1610612758|    Sacramento Kings|    California|        1948|\n",
      "|1610612757|Portland Trail Bl...|        Oregon|        1970|\n",
      "+----------+--------------------+--------------+------------+\n",
      "only showing top 10 rows\n",
      "\n"
     ]
    }
   ],
   "source": [
    "df_team_pqt.show(10)"
   ]
  },
  {
   "cell_type": "markdown",
   "id": "ad66bf3d-d21e-470b-8da0-0e260b66947e",
   "metadata": {},
   "source": [
    "## CARGA DE LOS MODELOS FINALES"
   ]
  },
  {
   "cell_type": "code",
   "execution_count": 184,
   "id": "6de93b6b-aafa-4dcc-be66-730ac3defdb4",
   "metadata": {},
   "outputs": [
    {
     "name": "stderr",
     "output_type": "stream",
     "text": [
      "                                                                                "
     ]
    }
   ],
   "source": [
    "df_game_pqt.write \\\n",
    "  .mode(\"overwrite\") \\\n",
    "  .parquet(\"/data_obligatorio_NBA/mld/game_pqt\")\n",
    "\n",
    "df_com_play_info_pqt.write \\\n",
    "  .mode(\"overwrite\") \\\n",
    "  .parquet(\"/data_obligatorio_NBA/mld/com_play_info_pqt\")\n",
    "\n",
    "df_play_pts_pqt.write \\\n",
    "  .mode(\"overwrite\") \\\n",
    "  .parquet(\"/data_obligatorio_NBA/mld/play_pts_pqt\")\n",
    "\n",
    "df_player_pqt.write \\\n",
    "  .mode(\"overwrite\") \\\n",
    "  .parquet(\"/data_obligatorio_NBA/mld/player_pqt\")\n",
    "\n",
    "df_team_pqt.write \\\n",
    "  .mode(\"overwrite\") \\\n",
    "  .parquet(\"/data_obligatorio_NBA/mld/team_pqt\")"
   ]
  },
  {
   "cell_type": "markdown",
   "id": "8aa8ed63-56d1-4a7b-ba5c-c0027554beb8",
   "metadata": {},
   "source": [
    "## VERIFICACION DE LA CARGA"
   ]
  },
  {
   "cell_type": "code",
   "execution_count": 185,
   "id": "15097a58-3cd8-4d14-a166-af84ec67647e",
   "metadata": {},
   "outputs": [
    {
     "name": "stdout",
     "output_type": "stream",
     "text": [
      "+--------+------------+--------+------------+--------+------+\n",
      "| game_id|team_id_home|pts_home|team_id_away|pts_away|season|\n",
      "+--------+------------+--------+------------+--------+------+\n",
      "|24600156|  1610610026|      74|  1610610032|      78|  1946|\n",
      "|24600187|  1610612738|      57|  1610610036|      80|    -1|\n",
      "|24800213|  1610612747|      89|  1610612744|      71|  1948|\n",
      "|24800254|  1610612765|      89|  1610612744|      87|  1948|\n",
      "|24800326|  1610610029|      80|  1610610034|      81|  1948|\n",
      "|44800212|  1610610025|      85|  1610612747|     101|  1948|\n",
      "|25000004|  1610610036|     100|  1610610030|      84|  1950|\n",
      "|25000213|  1610612755|      86|  1610612744|      96|  1950|\n",
      "|25000260|  1610612738|      85|  1610612737|      70|  1950|\n",
      "|25000270|  1610610024|      72|  1610612755|      80|  1950|\n",
      "+--------+------------+--------+------------+--------+------+\n",
      "only showing top 10 rows\n",
      "\n"
     ]
    }
   ],
   "source": [
    "df_parquet = spark.read.parquet(\"/data_obligatorio_NBA/mld/game_pqt\")\n",
    "df_parquet.show(10)"
   ]
  },
  {
   "cell_type": "code",
   "execution_count": 186,
   "id": "fd49abf9-72b5-4f14-92d3-1ab31e87450e",
   "metadata": {},
   "outputs": [
    {
     "name": "stdout",
     "output_type": "stream",
     "text": [
      "+---------+------------------+--------------+----------+-------+---------+\n",
      "|person_id|            school|      position|   team_id|jersey1|  jersey2|\n",
      "+---------+------------------+--------------+----------+-------+---------+\n",
      "|   201587|           Le Mans| Guard-Forward|1610612746|     33|Undefined|\n",
      "|  1628418|           Indiana|Center-Forward|1610612748|     13|Undefined|\n",
      "|    76590|           Alabama|        Center|1610612765|     13|Undefined|\n",
      "|  1629164|Florida Gulf Coast|         Guard|1610612739|     00|Undefined|\n",
      "|     2580|     Brigham Young| Guard-Forward|1610612737|      6|Undefined|\n",
      "|  1626209|      FC Barcelona| Forward-Guard|1610612753|     44|Undefined|\n",
      "|    77194|         St. Louis|        Center|1610612757|     34|Undefined|\n",
      "|    77292|      Kansas State|        Center|1610612755|     10|Undefined|\n",
      "|    77486|     Texas-El Paso|       Forward|1610612750|     25|Undefined|\n",
      "|    77615|            Auburn|       Forward|1610612759|     34|Undefined|\n",
      "+---------+------------------+--------------+----------+-------+---------+\n",
      "only showing top 10 rows\n",
      "\n"
     ]
    }
   ],
   "source": [
    "df_parquet = spark.read.parquet(\"/data_obligatorio_NBA/mld/com_play_info_pqt\")\n",
    "df_parquet.show(10)"
   ]
  },
  {
   "cell_type": "code",
   "execution_count": 187,
   "id": "e53adf22-e284-43bf-9725-08176cc06e73",
   "metadata": {},
   "outputs": [
    {
     "name": "stdout",
     "output_type": "stream",
     "text": [
      "+--------+--------+---------+----------+-------------+----------+---------+--------+\n",
      "| game_id|eventnum|player_id|   team_id|score_visitor|score_home|team_type|play_pts|\n",
      "+--------+--------+---------+----------+-------------+----------+---------+--------+\n",
      "|20200222|       8|     1897|1610612754|            0|         1|     home|       1|\n",
      "|20000814|     156|      330|1610612762|           31|        31|     home|       2|\n",
      "|20400395|     471|      363|1610612748|          100|       107|     home|       1|\n",
      "|20200134|     420|      708|1610612750|           85|        79|     home|       2|\n",
      "|20100021|     275|      976|1610612746|           53|        49|  visitor|       2|\n",
      "|20101188|      76|     1444|1610612758|           12|        20|  visitor|       2|\n",
      "|20500558|     221|     1495|1610612759|           40|        42|     home|       1|\n",
      "|20100856|     386|     1607|1610612753|           75|        87|  visitor|       1|\n",
      "|20501030|     187|     1889|1610612743|           31|        42|  visitor|       2|\n",
      "|20401199|     415|     2037|1610612752|          101|       104|     home|       3|\n",
      "+--------+--------+---------+----------+-------------+----------+---------+--------+\n",
      "only showing top 10 rows\n",
      "\n"
     ]
    }
   ],
   "source": [
    "df_parquet = spark.read.parquet(\"/data_obligatorio_NBA/mld/play_pts_pqt\")\n",
    "df_parquet.show(10)"
   ]
  },
  {
   "cell_type": "code",
   "execution_count": 188,
   "id": "951d1ce0-014d-4f33-8941-ed93b3744946",
   "metadata": {},
   "outputs": [
    {
     "name": "stdout",
     "output_type": "stream",
     "text": [
      "+---------+----------------+--------+\n",
      "|player_id|       full_name|  status|\n",
      "+---------+----------------+--------+\n",
      "|  1630175|    Cole Anthony|  Active|\n",
      "|    76054|  Nate Archibald|Inactive|\n",
      "|  1629633|  Jarrett Culver|  Active|\n",
      "|     2223|Samuel Dalembert|Inactive|\n",
      "|   201942|   DeMar DeRozan|  Active|\n",
      "|    76599|      Larry Drew|Inactive|\n",
      "|  1627770|      Kay Felder|Inactive|\n",
      "|   101155|      Ryan Gomes|Inactive|\n",
      "|    77112|  Winfred Jacobs|Inactive|\n",
      "|    77129|      Les Jepsen|Inactive|\n",
      "+---------+----------------+--------+\n",
      "only showing top 10 rows\n",
      "\n"
     ]
    }
   ],
   "source": [
    "df_parquet = spark.read.parquet(\"/data_obligatorio_NBA/mld/player_pqt\")\n",
    "df_parquet.show(10)"
   ]
  },
  {
   "cell_type": "code",
   "execution_count": 189,
   "id": "c29275b3-4613-44bf-a69e-85e6bcbc4df3",
   "metadata": {},
   "outputs": [
    {
     "name": "stdout",
     "output_type": "stream",
     "text": [
      "+----------+--------------------+--------------+------------+\n",
      "|   team_id|           full_name|         state|year_founded|\n",
      "+----------+--------------------+--------------+------------+\n",
      "|1610612741|       Chicago Bulls|      Illinois|        1966|\n",
      "|1610612752|     New York Knicks|      New York|        1946|\n",
      "|1610612751|       Brooklyn Nets|      New York|        1976|\n",
      "|1610612738|      Boston Celtics| Massachusetts|        1946|\n",
      "|1610612762|           Utah Jazz|          Utah|        1974|\n",
      "|1610612750|Minnesota Timberw...|     Minnesota|        1989|\n",
      "|1610612766|   Charlotte Hornets|North Carolina|        1988|\n",
      "|1610612748|          Miami Heat|       Florida|        1988|\n",
      "|1610612758|    Sacramento Kings|    California|        1948|\n",
      "|1610612757|Portland Trail Bl...|        Oregon|        1970|\n",
      "+----------+--------------------+--------------+------------+\n",
      "only showing top 10 rows\n",
      "\n"
     ]
    }
   ],
   "source": [
    "df_parquet = spark.read.parquet(\"/data_obligatorio_NBA/mld/team_pqt\")\n",
    "df_parquet.show(10)"
   ]
  }
 ],
 "metadata": {
  "kernelspec": {
   "display_name": "Python 3 (ipykernel)",
   "language": "python",
   "name": "python3"
  },
  "language_info": {
   "codemirror_mode": {
    "name": "ipython",
    "version": 3
   },
   "file_extension": ".py",
   "mimetype": "text/x-python",
   "name": "python",
   "nbconvert_exporter": "python",
   "pygments_lexer": "ipython3",
   "version": "3.8.8"
  }
 },
 "nbformat": 4,
 "nbformat_minor": 5
}
